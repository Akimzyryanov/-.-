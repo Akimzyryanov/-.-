{
  "nbformat": 4,
  "nbformat_minor": 0,
  "metadata": {
    "colab": {
      "provenance": []
    },
    "kernelspec": {
      "name": "python3",
      "display_name": "Python 3"
    },
    "language_info": {
      "name": "python"
    }
  },
  "cells": [
    {
      "cell_type": "code",
      "source": [
        "# Задание: https://github.com/obulygin/pyda_homeworks/tree/master/datatypes_cycles_2 "
      ],
      "metadata": {
        "id": "_Lb2-DmGuHL3"
      },
      "execution_count": null,
      "outputs": []
    },
    {
      "cell_type": "code",
      "execution_count": null,
      "metadata": {
        "id": "DXiLn2e9zWIG",
        "colab": {
          "base_uri": "https://localhost:8080/"
        },
        "outputId": "c4409909-e71d-465f-a84c-ef74d7b7b6b7"
      },
      "outputs": [
        {
          "output_type": "stream",
          "name": "stdout",
          "text": [
            "{98, 35, 15, 213, 54, 119}\n"
          ]
        }
      ],
      "source": [
        "# Задание 1\n",
        "ids = {'user1': [213, 213, 213, 15, 213],\n",
        "       'user2': [54, 54, 119, 119, 119],\n",
        "       'user3': [213, 98, 98, 35]}\n",
        "lst = ids.values()\n",
        "newlist = []\n",
        "for i in lst:\n",
        "    for j in i:\n",
        "        newlist.append(j)\n",
        "print(set(newlist))"
      ]
    },
    {
      "cell_type": "code",
      "source": [
        "# Задание 2\n",
        "queries = [\n",
        "    'смотреть сериалы онлайн',\n",
        "    'новости спорта',\n",
        "    'афиша кино',\n",
        "    'курс доллара',\n",
        "    'сериалы этим летом',\n",
        "    'курс по питону',\n",
        "    'сериалы про спорт',\n",
        "]\n",
        "\n",
        "storage = {}\n",
        "\n",
        "for query in queries:\n",
        "    words = query.split()\n",
        "\n",
        "    if len(words) in storage.keys():\n",
        "        storage[len(words)] += 1\n",
        "    else:\n",
        "        storage.update({\n",
        "            len(words): 1\n",
        "        })\n",
        "\n",
        "for key, value in storage.items():\n",
        "    percentage = round((value / len(queries)) * 100, 2)\n",
        "    print(f'Поисковых запросов , содержащих {key} слова: {percentage}%')"
      ],
      "metadata": {
        "colab": {
          "base_uri": "https://localhost:8080/"
        },
        "id": "_xBkjXew1QXX",
        "outputId": "fcaacef8-9ce6-4ccf-e0ee-ab84c44f2f23"
      },
      "execution_count": null,
      "outputs": [
        {
          "output_type": "stream",
          "name": "stdout",
          "text": [
            "Поисковых запросов , содержащих 3 слова: 57.14%\n",
            "Поисковых запросов , содержащих 2 слова: 42.86%\n"
          ]
        }
      ]
    },
    {
      "cell_type": "code",
      "source": [
        "# Задание 3\n",
        "results = {\n",
        "'vk': {'revenue': 103, 'cost': 98},\n",
        "'yandex': {'revenue': 179, 'cost': 153},\n",
        "'facebook': {'revenue': 103, 'cost': 110},\n",
        "'adwords': {'revenue': 35, 'cost': 34},\n",
        "'twitter': {'revenue': 11, 'cost': 24},\n",
        "}\n",
        "\n",
        "for key, value in results.items():\n",
        "    value['ROI'] = round(((value['revenue'] / value['cost']) - 1)*100 , 2)\n",
        "    print(key, value)"
      ],
      "metadata": {
        "id": "xG-bZWVI0kum",
        "colab": {
          "base_uri": "https://localhost:8080/"
        },
        "outputId": "912f9f6b-edf7-4d4c-b468-00dbd78c39a6"
      },
      "execution_count": null,
      "outputs": [
        {
          "output_type": "stream",
          "name": "stdout",
          "text": [
            "vk {'revenue': 103, 'cost': 98, 'ROI': 5.1}\n",
            "yandex {'revenue': 179, 'cost': 153, 'ROI': 16.99}\n",
            "facebook {'revenue': 103, 'cost': 110, 'ROI': -6.36}\n",
            "adwords {'revenue': 35, 'cost': 34, 'ROI': 2.94}\n",
            "twitter {'revenue': 11, 'cost': 24, 'ROI': -54.17}\n"
          ]
        }
      ]
    },
    {
      "cell_type": "code",
      "source": [
        "# Задание 4\n",
        "stats = {'facebook': 55, 'yandex': 130, 'vk': 120, 'google': 99, 'email': 42, 'ok': 98}\n",
        "print(max(stats, key=stats.get))\n"
      ],
      "metadata": {
        "colab": {
          "base_uri": "https://localhost:8080/"
        },
        "id": "Vi067Im6gtaK",
        "outputId": "97d36531-53e6-4416-e199-b7c540ff0b4c"
      },
      "execution_count": null,
      "outputs": [
        {
          "output_type": "stream",
          "name": "stdout",
          "text": [
            "yandex\n"
          ]
        }
      ]
    }
  ]
}