{
  "nbformat": 4,
  "nbformat_minor": 0,
  "metadata": {
    "colab": {
      "provenance": []
    },
    "kernelspec": {
      "name": "python3",
      "display_name": "Python 3"
    },
    "language_info": {
      "name": "python"
    }
  },
  "cells": [
    {
      "cell_type": "code",
      "source": [
        "'''\n",
        "Смоделировать игру против лотерейного автомата типа “777”. Игрок платит 1 руб., после чего выпадает случайное целое число, равномерно распределенное от 0 до 999. При некоторых значениях числа игрок получает выигрыш.\n",
        "\n",
        "777: 200 руб.\n",
        "999: 100 руб.\n",
        "555: 50 руб.\n",
        "333: 15 руб.\n",
        "111: 10 руб.\n",
        "*77: 5 руб.\n",
        "**7: 3 руб.\n",
        "*00: 2 руб.\n",
        "**0: 1 руб.\n",
        "\n",
        "Вопросы:\n",
        "\n",
        "Выгодна ли игра игроку?\n",
        "Сколько в среднем приобретает или теряет игрок за одну игру?\n",
        "'''"
      ],
      "metadata": {
        "id": "4q68FIqqz9-S"
      },
      "execution_count": null,
      "outputs": []
    },
    {
      "cell_type": "code",
      "execution_count": null,
      "metadata": {
        "id": "621r9eE4ZUEj"
      },
      "outputs": [],
      "source": [
        "import numpy as np"
      ]
    },
    {
      "cell_type": "code",
      "source": [
        "trials = 1000000   \n",
        "result = 0       \n",
        "results_list = []\n",
        "\n",
        "for i in range(trials):\n",
        "    random_score = np.random.randint(0, 1000)    \n",
        "    if random_score == 999:\n",
        "        results_list.append(100)\n",
        "    elif random_score == 777:\n",
        "        results_list.append(200)\n",
        "    elif random_score == 555:\n",
        "        results_list.append(50)\n",
        "    elif random_score == 333:\n",
        "        results_list.append(15)\n",
        "    elif random_score == 111:\n",
        "        results_list.append(10)\n",
        "    elif random_score % 100 == 77:\n",
        "        results_list.append(5)\n",
        "    elif random_score % 10 == 7:\n",
        "        results_list.append(3)    \n",
        "    elif random_score % 100 == 0:\n",
        "        results_list.append(2)\n",
        "    elif random_score % 10 == 0:\n",
        "        results_list.append(1)\n",
        "    else:\n",
        "        None\n",
        "        result += 1\n",
        "\n",
        "profit = sum(results_list) - trials\n",
        "if profit > 0:\n",
        "    print('Игра выгодна. Выигрыш :', profit, 'руб. c', trials, 'руб.')\n",
        "else:\n",
        "    print('Игра не выгодна. Проигрыш:', profit, 'руб. c', trials, 'руб.')   "
      ],
      "metadata": {
        "colab": {
          "base_uri": "https://localhost:8080/"
        },
        "id": "jtIVTNKAZa5Y",
        "outputId": "25ec73a8-ae98-414f-ed18-52ffc4057422"
      },
      "execution_count": null,
      "outputs": [
        {
          "output_type": "stream",
          "name": "stdout",
          "text": [
            "Игра не выгодна. Проигрыш: -193412 руб. c 1000000 руб.\n"
          ]
        }
      ]
    },
    {
      "cell_type": "code",
      "source": [
        "games = 100      \n",
        "profit = 0      \n",
        "profit_list = []\n",
        "\n",
        "for x in range(games):\n",
        "    trials = 1000  \n",
        "    result = 0       \n",
        "    results_list = []\n",
        "    for i in range(trials):\n",
        "        random_score = np.random.randint(0, 1000)    \n",
        "        if random_score == 999:\n",
        "            results_list.append(100)\n",
        "        elif random_score == 777:\n",
        "            results_list.append(200)\n",
        "        elif random_score == 555:\n",
        "            results_list.append(50)\n",
        "        elif random_score == 333:\n",
        "            results_list.append(15)\n",
        "        elif random_score == 111:\n",
        "            results_list.append(10)\n",
        "        elif random_score % 100 == 77:\n",
        "            results_list.append(5)\n",
        "        elif random_score % 10 == 7:\n",
        "            results_list.append(3)        \n",
        "        elif random_score % 100 == 0:\n",
        "            results_list.append(2)\n",
        "        elif random_score % 10 == 0:\n",
        "            results_list.append(1)\n",
        "        else:\n",
        "            results_list.append(0)\n",
        "            result += 1\n",
        "    profit = sum(results_list) - trials\n",
        "    profit_list.append(profit)\n",
        "    profit += 1\n",
        "avarage_profit = round(sum(profit_list) / games)\n",
        "if avarage_profit > 0:\n",
        "    print('Игра, в среднем, выгодна. В среднем выигрыш :', avarage_profit, 'руб. c', trials, 'руб.')\n",
        "else:\n",
        "    print('Игра, в среднем, не выгодна. В среднем проигрыш :', avarage_profit, 'руб. c', trials, 'руб.')"
      ],
      "metadata": {
        "colab": {
          "base_uri": "https://localhost:8080/"
        },
        "id": "lOH3pSVxckMF",
        "outputId": "3c9af856-f38b-4a66-8327-6a23e0c0eaae"
      },
      "execution_count": null,
      "outputs": [
        {
          "output_type": "stream",
          "name": "stdout",
          "text": [
            "Игра, в среднем, не выгодна. В среднем проигрыш : -175 руб. c 1000 руб.\n"
          ]
        }
      ]
    }
  ]
}