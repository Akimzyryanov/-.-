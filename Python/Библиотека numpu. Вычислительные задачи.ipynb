{
  "nbformat": 4,
  "nbformat_minor": 0,
  "metadata": {
    "colab": {
      "provenance": []
    },
    "kernelspec": {
      "name": "python3",
      "display_name": "Python 3"
    },
    "language_info": {
      "name": "python"
    }
  },
  "cells": [
    {
      "cell_type": "code",
      "source": [
        "'''\n",
        "Задание 1\n",
        "Создайте numpy array с элементами от числа N до 0. Например, для N = 10 это будет array([9, 8, 7, 6, 5, 4, 3, 2, 1, 0])).\n",
        "\n",
        "Задание 2\n",
        "Создайте диагональную матрицу с элементами от N до 0. Посчитайте сумму её значений на диагонали.\n",
        "\n",
        "Задание 3\n",
        "Решите систему уравнений:\n",
        "4x + 2y + z = 4\n",
        "x + 3y = 12\n",
        "5y + 4z = -3\n",
        "\n",
        "Задание 4\n",
        "Задание и входные данные к нему находятся в материалах занятия: ноутбук к лекции «Библиотека NumPy. Вычислительные задачи» ---- Python_9_Numpy.ipynb ---- Косинусное сходство между векторами ---- Задача 4 домашнего задания.\n",
        "''' "
      ],
      "metadata": {
        "colab": {
          "base_uri": "https://localhost:8080/",
          "height": 87
        },
        "id": "ipdDBbBuxCyZ",
        "outputId": "07c8991b-76d7-4cb5-f8da-4a328fec2f09"
      },
      "execution_count": 2,
      "outputs": [
        {
          "output_type": "execute_result",
          "data": {
            "text/plain": [
              "'\\nЗадание 1\\nСоздайте numpy array с элементами от числа N до 0. Например, для N = 10 это будет array([9, 8, 7, 6, 5, 4, 3, 2, 1, 0])).\\n\\nЗадание 2\\nСоздайте диагональную матрицу с элементами от N до 0. Посчитайте сумму её значений на диагонали.\\n\\nЗадание 3\\nРешите систему уравнений:\\n4x + 2y + z = 4\\nx + 3y = 12\\n5y + 4z = -3\\n\\nЗадание 4\\nЗадание и входные данные к нему находятся в материалах занятия: ноутбук к лекции «Библиотека NumPy. Вычислительные задачи» ---- Python_9_Numpy.ipynb ---- Косинусное сходство между векторами ---- Задача 4 домашнего задания.\\n'"
            ],
            "application/vnd.google.colaboratory.intrinsic+json": {
              "type": "string"
            }
          },
          "metadata": {},
          "execution_count": 2
        }
      ]
    },
    {
      "cell_type": "code",
      "execution_count": null,
      "metadata": {
        "colab": {
          "base_uri": "https://localhost:8080/"
        },
        "id": "VycPUSFNlJ3m",
        "outputId": "615d6104-2d66-4894-da79-08d883a3d235"
      },
      "outputs": [
        {
          "output_type": "stream",
          "name": "stdout",
          "text": [
            "10\n",
            "результат: [9 8 7 6 5 4 3 2 1 0]\n"
          ]
        }
      ],
      "source": [
        "# Задание 1\n",
        "import numpy as np\n",
        "f'введите количество элементов'\n",
        "n=int(input())\n",
        "print('результат: {}'.format(np.arange(n-1, -1,-1)))"
      ]
    },
    {
      "cell_type": "code",
      "source": [
        "# Задание 2\n",
        "f'введите количество элементов'\n",
        "n=int(input())\n",
        "matrix=np.diag(np.arange(n,0,-1))\n",
        "summ=0\n",
        "for line in matrix:\n",
        "    for j in line:\n",
        "        summ+=j\n",
        "print('сумма: {}'.format(summ))"
      ],
      "metadata": {
        "colab": {
          "base_uri": "https://localhost:8080/"
        },
        "id": "TJCguJiomUFv",
        "outputId": "19e81a41-cef0-45fb-ff5d-8dbfcf4c877a"
      },
      "execution_count": null,
      "outputs": [
        {
          "output_type": "stream",
          "name": "stdout",
          "text": [
            "5\n",
            "сумма: 15\n"
          ]
        }
      ]
    },
    {
      "cell_type": "code",
      "source": [
        "#Задание 3\n",
        "from numpy import linalg\n",
        "a=np.array([[4,2,1],[1,3,0],[0,5,4]])\n",
        "b=np.array([4,12,-3])\n",
        "linalg.solve(a,b)"
      ],
      "metadata": {
        "colab": {
          "base_uri": "https://localhost:8080/"
        },
        "id": "NRVmJ01mm5nU",
        "outputId": "4cc9bb8a-5f5b-426b-b784-13f1426d6ecb"
      },
      "execution_count": null,
      "outputs": [
        {
          "output_type": "execute_result",
          "data": {
            "text/plain": [
              "array([ 0.46666667,  3.84444444, -5.55555556])"
            ]
          },
          "metadata": {},
          "execution_count": 4
        }
      ]
    },
    {
      "cell_type": "code",
      "source": [
        "#Задание 4\n",
        "import numpy as np\n",
        "from scipy.spatial.distance import cdist\n",
        "users_stats = np.array(\n",
        "    [\n",
        "        [2, 1, 0, 0, 0, 0],\n",
        "        [1, 1, 2, 1, 0, 0],\n",
        "        [2, 0, 1, 0, 0, 0],\n",
        "        [1, 1, 2, 1, 0, 1],\n",
        "        [0, 0, 1, 2, 0, 0],\n",
        "        [0, 0, 0, 0, 0, 5],\n",
        "        [1, 0, 0, 0, 0, 0],\n",
        "        [0, 1, 1, 0, 0, 0],\n",
        "        [0, 0, 0, 1, 1, 3],\n",
        "        [1, 0, 0, 2, 1, 4]\n",
        "    ], \n",
        "    np.int32\n",
        ")\n",
        "next_user_stats = np.array([[0, 1, 2, 0, 0, 0]])\n",
        "Y = cdist(next_user_stats, users_stats, 'cosine')\n",
        "idx=np.argmin(Y)\n",
        "print(users_stats[idx, :]) "
      ],
      "metadata": {
        "colab": {
          "base_uri": "https://localhost:8080/"
        },
        "id": "NOsIAxqDo2GS",
        "outputId": "61e90249-e898-4b6e-a857-d432b2ce741c"
      },
      "execution_count": null,
      "outputs": [
        {
          "output_type": "stream",
          "name": "stdout",
          "text": [
            "[0 1 1 0 0 0]\n"
          ]
        }
      ]
    }
  ]
}