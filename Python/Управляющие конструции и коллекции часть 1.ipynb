{
  "nbformat": 4,
  "nbformat_minor": 0,
  "metadata": {
    "colab": {
      "provenance": []
    },
    "kernelspec": {
      "name": "python3",
      "display_name": "Python 3"
    },
    "language_info": {
      "name": "python"
    }
  },
  "cells": [
    {
      "cell_type": "code",
      "source": [
        "# Задание: https://github.com/obulygin/pyda_homeworks/tree/master/datatypes_cycles_1_"
      ],
      "metadata": {
        "id": "_CatNyr8wl24"
      },
      "execution_count": null,
      "outputs": []
    },
    {
      "cell_type": "code",
      "execution_count": null,
      "metadata": {
        "colab": {
          "base_uri": "https://localhost:8080/"
        },
        "id": "8gr8TNHBPykA",
        "outputId": "07121844-318e-4824-dbfa-212d1a0bd811"
      },
      "outputs": [
        {
          "output_type": "stream",
          "name": "stdout",
          "text": [
            "Введите словоArrat\n",
            "r\n"
          ]
        }
      ],
      "source": [
        "# Задание 1\n",
        "\n",
        "word = str(input('Введите слово'))\n",
        "word_1 = len(word) // 2\n",
        "if len (word) % 2 == 0:\n",
        "    print (word[word_1-1:word_1+1])\n",
        "else:\n",
        "    print (word[word_1])\n",
        "\n"
      ]
    },
    {
      "cell_type": "code",
      "source": [
        "# Задание 2\n",
        "a = int(input(\"Введите число:\"))\n",
        "sum = 0\n",
        "kol = 0\n",
        "while a != 0:\n",
        "    sum += a\n",
        "    kol += 1\n",
        "    a = int(input()) \n",
        " \n",
        "print('Результат:',sum)"
      ],
      "metadata": {
        "colab": {
          "base_uri": "https://localhost:8080/"
        },
        "id": "67BDIYnbhmc8",
        "outputId": "9f0beeef-75da-4041-f5ef-d99f968d65dc"
      },
      "execution_count": null,
      "outputs": [
        {
          "output_type": "stream",
          "name": "stdout",
          "text": [
            "Введите число:5\n",
            "6\n",
            "0\n",
            "Результат: 11\n"
          ]
        }
      ]
    },
    {
      "cell_type": "code",
      "source": [
        "# Задание 3\n",
        "\n",
        "boys = ['Peter','Alex', 'John', 'Arthur', 'Richard']\n",
        "girls = ['Kate', 'Liza', 'Kira', 'Emma', 'Trisha']\n",
        "if len(boys)==len(girls):\n",
        "    print(\"Идеальная пара:\")\n",
        "    boys.sort()\n",
        "    girls.sort()\n",
        "    dating = zip(boys, girls)\n",
        "    for company in dating:\n",
        "        print(f\"{company[0]} и {company[1]}\")\n",
        "else:\n",
        " \n",
        "    print(\"Кто то может остаться без пары\")"
      ],
      "metadata": {
        "id": "luiJ90Zqhsfk",
        "colab": {
          "base_uri": "https://localhost:8080/"
        },
        "outputId": "d150316f-d021-401e-f9fa-ce98d13ae907"
      },
      "execution_count": null,
      "outputs": [
        {
          "output_type": "stream",
          "name": "stdout",
          "text": [
            "Идеальная пара:\n",
            "Alex и Emma\n",
            "Arthur и Kate\n",
            "John и Kira\n",
            "Peter и Liza\n",
            "Richard и Trisha\n"
          ]
        }
      ]
    },
    {
      "cell_type": "code",
      "source": [
        "# Задание 4\n",
        "countries_temperature = [['Thailand', [75.2, 77, 78.8, 73.4, 68, 75.2, 77]],\n",
        "                         ['Germany', [57.2, 55.4, 59, 59, 53.6]],\n",
        "                         ['Russia', [35.6, 37.4, 39.2, 41, 42.8, 39.2, 35.6]],\n",
        "                         ['Poland', [50, 50, 53.6, 57.2, 55.4, 55.4]]\n",
        "                        ]\n",
        "for Country, Temperature in countries_temperature:\n",
        "    Tsum = 0\n",
        "    for T in Temperature:\n",
        "        Tsum += (T - 32)*5/9\n",
        "    print('Средняя температура')    \n",
        "    print('%10s  %5.1f' % (Country, Tsum/len(Temperature)))"
      ],
      "metadata": {
        "colab": {
          "base_uri": "https://localhost:8080/"
        },
        "id": "OGAWscYXhwrU",
        "outputId": "9eb4b06f-7211-41ad-cd7f-85a0f6c0c658"
      },
      "execution_count": null,
      "outputs": [
        {
          "output_type": "stream",
          "name": "stdout",
          "text": [
            "Средняя температура\n",
            "  Thailand   23.9\n",
            "Средняя температура\n",
            "   Germany   13.8\n",
            "Средняя температура\n",
            "    Russia    3.7\n",
            "Средняя температура\n",
            "    Poland   12.0\n"
          ]
        }
      ]
    }
  ]
}