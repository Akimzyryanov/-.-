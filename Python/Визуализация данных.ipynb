{
  "nbformat": 4,
  "nbformat_minor": 0,
  "metadata": {
    "colab": {
      "provenance": []
    },
    "kernelspec": {
      "name": "python3",
      "display_name": "Python 3"
    },
    "language_info": {
      "name": "python"
    }
  },
  "cells": [
    {
      "cell_type": "code",
      "source": [
        "'''\n",
        "Вам необходимо провести базовый EDA выбранного набора данных.\n",
        "\n",
        "Требования к анализу:\n",
        "\n",
        "построить не менее 4 визуализаций различных видов;\n",
        "каждая визуализация должным образом оформлена и читается даже в отрыве от контекста;\n",
        "по каждой визуализации необходимо написать вывод (какую гипотезу на ее основе можно выдвинуть?).\n",
        "Откуда брать данные?\n",
        "\n",
        "Можете взять свои рабочие данные, либо найти открытые данные (например, на kaggle.com) по интересующей вас предметной области (тогда не забудьте их выложить на github вместе с ноутбуком).\n",
        "Если идей нет, можете взять один из перечисленных ниже:\n",
        "\n",
        "данные приложений из Google Play;\n",
        "данные о видео из трендов YouTube;\n",
        "данные об уровне счастья в разных странах.\n",
        "'''"
      ],
      "metadata": {
        "id": "a5jW83f3zqbb"
      },
      "execution_count": null,
      "outputs": []
    },
    {
      "cell_type": "code",
      "execution_count": null,
      "metadata": {
        "id": "Kpmtf0Mpd5Kv"
      },
      "outputs": [],
      "source": [
        "import pandas as pd\n",
        "import numpy as np\n",
        "import matplotlib.pyplot as plt"
      ]
    },
    {
      "cell_type": "code",
      "source": [
        "horse_data = pd.read_csv(\"PayPal.csv\")"
      ],
      "metadata": {
        "id": "0Thj_kOVeNpG"
      },
      "execution_count": null,
      "outputs": []
    },
    {
      "cell_type": "code",
      "source": [
        "df = horse_data\n",
        "df.head()"
      ],
      "metadata": {
        "colab": {
          "base_uri": "https://localhost:8080/",
          "height": 206
        },
        "id": "KJUgKvLheRwh",
        "outputId": "1361f185-635f-410e-c4e7-8e8180e8993a"
      },
      "execution_count": null,
      "outputs": [
        {
          "output_type": "execute_result",
          "data": {
            "text/plain": [
              "         Date       Open       High        Low      Close  Adj Close   Volume\n",
              "0  2015-07-06  38.000000  39.750000  36.000000  36.709999  36.709999  5866600\n",
              "1  2015-07-07  37.720001  37.810001  36.000000  36.619999  36.619999  7359000\n",
              "2  2015-07-08  36.340000  36.360001  34.529999  34.700001  34.700001  5387700\n",
              "3  2015-07-09  35.099998  35.520000  33.990002  34.500000  34.500000  3760100\n",
              "4  2015-07-10  34.660000  35.189999  33.980000  34.689999  34.689999  4472800"
            ],
            "text/html": [
              "\n",
              "  <div id=\"df-d6156986-6897-4ac0-b25d-7923a429e892\">\n",
              "    <div class=\"colab-df-container\">\n",
              "      <div>\n",
              "<style scoped>\n",
              "    .dataframe tbody tr th:only-of-type {\n",
              "        vertical-align: middle;\n",
              "    }\n",
              "\n",
              "    .dataframe tbody tr th {\n",
              "        vertical-align: top;\n",
              "    }\n",
              "\n",
              "    .dataframe thead th {\n",
              "        text-align: right;\n",
              "    }\n",
              "</style>\n",
              "<table border=\"1\" class=\"dataframe\">\n",
              "  <thead>\n",
              "    <tr style=\"text-align: right;\">\n",
              "      <th></th>\n",
              "      <th>Date</th>\n",
              "      <th>Open</th>\n",
              "      <th>High</th>\n",
              "      <th>Low</th>\n",
              "      <th>Close</th>\n",
              "      <th>Adj Close</th>\n",
              "      <th>Volume</th>\n",
              "    </tr>\n",
              "  </thead>\n",
              "  <tbody>\n",
              "    <tr>\n",
              "      <th>0</th>\n",
              "      <td>2015-07-06</td>\n",
              "      <td>38.000000</td>\n",
              "      <td>39.750000</td>\n",
              "      <td>36.000000</td>\n",
              "      <td>36.709999</td>\n",
              "      <td>36.709999</td>\n",
              "      <td>5866600</td>\n",
              "    </tr>\n",
              "    <tr>\n",
              "      <th>1</th>\n",
              "      <td>2015-07-07</td>\n",
              "      <td>37.720001</td>\n",
              "      <td>37.810001</td>\n",
              "      <td>36.000000</td>\n",
              "      <td>36.619999</td>\n",
              "      <td>36.619999</td>\n",
              "      <td>7359000</td>\n",
              "    </tr>\n",
              "    <tr>\n",
              "      <th>2</th>\n",
              "      <td>2015-07-08</td>\n",
              "      <td>36.340000</td>\n",
              "      <td>36.360001</td>\n",
              "      <td>34.529999</td>\n",
              "      <td>34.700001</td>\n",
              "      <td>34.700001</td>\n",
              "      <td>5387700</td>\n",
              "    </tr>\n",
              "    <tr>\n",
              "      <th>3</th>\n",
              "      <td>2015-07-09</td>\n",
              "      <td>35.099998</td>\n",
              "      <td>35.520000</td>\n",
              "      <td>33.990002</td>\n",
              "      <td>34.500000</td>\n",
              "      <td>34.500000</td>\n",
              "      <td>3760100</td>\n",
              "    </tr>\n",
              "    <tr>\n",
              "      <th>4</th>\n",
              "      <td>2015-07-10</td>\n",
              "      <td>34.660000</td>\n",
              "      <td>35.189999</td>\n",
              "      <td>33.980000</td>\n",
              "      <td>34.689999</td>\n",
              "      <td>34.689999</td>\n",
              "      <td>4472800</td>\n",
              "    </tr>\n",
              "  </tbody>\n",
              "</table>\n",
              "</div>\n",
              "      <button class=\"colab-df-convert\" onclick=\"convertToInteractive('df-d6156986-6897-4ac0-b25d-7923a429e892')\"\n",
              "              title=\"Convert this dataframe to an interactive table.\"\n",
              "              style=\"display:none;\">\n",
              "        \n",
              "  <svg xmlns=\"http://www.w3.org/2000/svg\" height=\"24px\"viewBox=\"0 0 24 24\"\n",
              "       width=\"24px\">\n",
              "    <path d=\"M0 0h24v24H0V0z\" fill=\"none\"/>\n",
              "    <path d=\"M18.56 5.44l.94 2.06.94-2.06 2.06-.94-2.06-.94-.94-2.06-.94 2.06-2.06.94zm-11 1L8.5 8.5l.94-2.06 2.06-.94-2.06-.94L8.5 2.5l-.94 2.06-2.06.94zm10 10l.94 2.06.94-2.06 2.06-.94-2.06-.94-.94-2.06-.94 2.06-2.06.94z\"/><path d=\"M17.41 7.96l-1.37-1.37c-.4-.4-.92-.59-1.43-.59-.52 0-1.04.2-1.43.59L10.3 9.45l-7.72 7.72c-.78.78-.78 2.05 0 2.83L4 21.41c.39.39.9.59 1.41.59.51 0 1.02-.2 1.41-.59l7.78-7.78 2.81-2.81c.8-.78.8-2.07 0-2.86zM5.41 20L4 18.59l7.72-7.72 1.47 1.35L5.41 20z\"/>\n",
              "  </svg>\n",
              "      </button>\n",
              "      \n",
              "  <style>\n",
              "    .colab-df-container {\n",
              "      display:flex;\n",
              "      flex-wrap:wrap;\n",
              "      gap: 12px;\n",
              "    }\n",
              "\n",
              "    .colab-df-convert {\n",
              "      background-color: #E8F0FE;\n",
              "      border: none;\n",
              "      border-radius: 50%;\n",
              "      cursor: pointer;\n",
              "      display: none;\n",
              "      fill: #1967D2;\n",
              "      height: 32px;\n",
              "      padding: 0 0 0 0;\n",
              "      width: 32px;\n",
              "    }\n",
              "\n",
              "    .colab-df-convert:hover {\n",
              "      background-color: #E2EBFA;\n",
              "      box-shadow: 0px 1px 2px rgba(60, 64, 67, 0.3), 0px 1px 3px 1px rgba(60, 64, 67, 0.15);\n",
              "      fill: #174EA6;\n",
              "    }\n",
              "\n",
              "    [theme=dark] .colab-df-convert {\n",
              "      background-color: #3B4455;\n",
              "      fill: #D2E3FC;\n",
              "    }\n",
              "\n",
              "    [theme=dark] .colab-df-convert:hover {\n",
              "      background-color: #434B5C;\n",
              "      box-shadow: 0px 1px 3px 1px rgba(0, 0, 0, 0.15);\n",
              "      filter: drop-shadow(0px 1px 2px rgba(0, 0, 0, 0.3));\n",
              "      fill: #FFFFFF;\n",
              "    }\n",
              "  </style>\n",
              "\n",
              "      <script>\n",
              "        const buttonEl =\n",
              "          document.querySelector('#df-d6156986-6897-4ac0-b25d-7923a429e892 button.colab-df-convert');\n",
              "        buttonEl.style.display =\n",
              "          google.colab.kernel.accessAllowed ? 'block' : 'none';\n",
              "\n",
              "        async function convertToInteractive(key) {\n",
              "          const element = document.querySelector('#df-d6156986-6897-4ac0-b25d-7923a429e892');\n",
              "          const dataTable =\n",
              "            await google.colab.kernel.invokeFunction('convertToInteractive',\n",
              "                                                     [key], {});\n",
              "          if (!dataTable) return;\n",
              "\n",
              "          const docLinkHtml = 'Like what you see? Visit the ' +\n",
              "            '<a target=\"_blank\" href=https://colab.research.google.com/notebooks/data_table.ipynb>data table notebook</a>'\n",
              "            + ' to learn more about interactive tables.';\n",
              "          element.innerHTML = '';\n",
              "          dataTable['output_type'] = 'display_data';\n",
              "          await google.colab.output.renderOutput(dataTable, element);\n",
              "          const docLink = document.createElement('div');\n",
              "          docLink.innerHTML = docLinkHtml;\n",
              "          element.appendChild(docLink);\n",
              "        }\n",
              "      </script>\n",
              "    </div>\n",
              "  </div>\n",
              "  "
            ]
          },
          "metadata": {},
          "execution_count": 4
        }
      ]
    },
    {
      "cell_type": "code",
      "source": [
        "dynamics_by_volume = df[['Open', 'Close', 'Date']] \\\n",
        "    .groupby('Date').sum()\n",
        "dynamics_by_volume"
      ],
      "metadata": {
        "colab": {
          "base_uri": "https://localhost:8080/",
          "height": 455
        },
        "id": "DKFni6GTeTgA",
        "outputId": "501572e1-9491-4985-bc6f-87fa7bccfecf"
      },
      "execution_count": null,
      "outputs": [
        {
          "output_type": "execute_result",
          "data": {
            "text/plain": [
              "                 Open      Close\n",
              "Date                            \n",
              "2015-07-06  38.000000  36.709999\n",
              "2015-07-07  37.720001  36.619999\n",
              "2015-07-08  36.340000  34.700001\n",
              "2015-07-09  35.099998  34.500000\n",
              "2015-07-10  34.660000  34.689999\n",
              "...               ...        ...\n",
              "2022-05-16  78.589996  77.650002\n",
              "2022-05-17  79.889999  79.750000\n",
              "2022-05-18  78.599998  77.180000\n",
              "2022-05-19  76.830002  81.279999\n",
              "2022-05-20  83.709999  80.540001\n",
              "\n",
              "[1734 rows x 2 columns]"
            ],
            "text/html": [
              "\n",
              "  <div id=\"df-ac39fdd1-8b8d-4b04-9d2f-e29c20b98cda\">\n",
              "    <div class=\"colab-df-container\">\n",
              "      <div>\n",
              "<style scoped>\n",
              "    .dataframe tbody tr th:only-of-type {\n",
              "        vertical-align: middle;\n",
              "    }\n",
              "\n",
              "    .dataframe tbody tr th {\n",
              "        vertical-align: top;\n",
              "    }\n",
              "\n",
              "    .dataframe thead th {\n",
              "        text-align: right;\n",
              "    }\n",
              "</style>\n",
              "<table border=\"1\" class=\"dataframe\">\n",
              "  <thead>\n",
              "    <tr style=\"text-align: right;\">\n",
              "      <th></th>\n",
              "      <th>Open</th>\n",
              "      <th>Close</th>\n",
              "    </tr>\n",
              "    <tr>\n",
              "      <th>Date</th>\n",
              "      <th></th>\n",
              "      <th></th>\n",
              "    </tr>\n",
              "  </thead>\n",
              "  <tbody>\n",
              "    <tr>\n",
              "      <th>2015-07-06</th>\n",
              "      <td>38.000000</td>\n",
              "      <td>36.709999</td>\n",
              "    </tr>\n",
              "    <tr>\n",
              "      <th>2015-07-07</th>\n",
              "      <td>37.720001</td>\n",
              "      <td>36.619999</td>\n",
              "    </tr>\n",
              "    <tr>\n",
              "      <th>2015-07-08</th>\n",
              "      <td>36.340000</td>\n",
              "      <td>34.700001</td>\n",
              "    </tr>\n",
              "    <tr>\n",
              "      <th>2015-07-09</th>\n",
              "      <td>35.099998</td>\n",
              "      <td>34.500000</td>\n",
              "    </tr>\n",
              "    <tr>\n",
              "      <th>2015-07-10</th>\n",
              "      <td>34.660000</td>\n",
              "      <td>34.689999</td>\n",
              "    </tr>\n",
              "    <tr>\n",
              "      <th>...</th>\n",
              "      <td>...</td>\n",
              "      <td>...</td>\n",
              "    </tr>\n",
              "    <tr>\n",
              "      <th>2022-05-16</th>\n",
              "      <td>78.589996</td>\n",
              "      <td>77.650002</td>\n",
              "    </tr>\n",
              "    <tr>\n",
              "      <th>2022-05-17</th>\n",
              "      <td>79.889999</td>\n",
              "      <td>79.750000</td>\n",
              "    </tr>\n",
              "    <tr>\n",
              "      <th>2022-05-18</th>\n",
              "      <td>78.599998</td>\n",
              "      <td>77.180000</td>\n",
              "    </tr>\n",
              "    <tr>\n",
              "      <th>2022-05-19</th>\n",
              "      <td>76.830002</td>\n",
              "      <td>81.279999</td>\n",
              "    </tr>\n",
              "    <tr>\n",
              "      <th>2022-05-20</th>\n",
              "      <td>83.709999</td>\n",
              "      <td>80.540001</td>\n",
              "    </tr>\n",
              "  </tbody>\n",
              "</table>\n",
              "<p>1734 rows × 2 columns</p>\n",
              "</div>\n",
              "      <button class=\"colab-df-convert\" onclick=\"convertToInteractive('df-ac39fdd1-8b8d-4b04-9d2f-e29c20b98cda')\"\n",
              "              title=\"Convert this dataframe to an interactive table.\"\n",
              "              style=\"display:none;\">\n",
              "        \n",
              "  <svg xmlns=\"http://www.w3.org/2000/svg\" height=\"24px\"viewBox=\"0 0 24 24\"\n",
              "       width=\"24px\">\n",
              "    <path d=\"M0 0h24v24H0V0z\" fill=\"none\"/>\n",
              "    <path d=\"M18.56 5.44l.94 2.06.94-2.06 2.06-.94-2.06-.94-.94-2.06-.94 2.06-2.06.94zm-11 1L8.5 8.5l.94-2.06 2.06-.94-2.06-.94L8.5 2.5l-.94 2.06-2.06.94zm10 10l.94 2.06.94-2.06 2.06-.94-2.06-.94-.94-2.06-.94 2.06-2.06.94z\"/><path d=\"M17.41 7.96l-1.37-1.37c-.4-.4-.92-.59-1.43-.59-.52 0-1.04.2-1.43.59L10.3 9.45l-7.72 7.72c-.78.78-.78 2.05 0 2.83L4 21.41c.39.39.9.59 1.41.59.51 0 1.02-.2 1.41-.59l7.78-7.78 2.81-2.81c.8-.78.8-2.07 0-2.86zM5.41 20L4 18.59l7.72-7.72 1.47 1.35L5.41 20z\"/>\n",
              "  </svg>\n",
              "      </button>\n",
              "      \n",
              "  <style>\n",
              "    .colab-df-container {\n",
              "      display:flex;\n",
              "      flex-wrap:wrap;\n",
              "      gap: 12px;\n",
              "    }\n",
              "\n",
              "    .colab-df-convert {\n",
              "      background-color: #E8F0FE;\n",
              "      border: none;\n",
              "      border-radius: 50%;\n",
              "      cursor: pointer;\n",
              "      display: none;\n",
              "      fill: #1967D2;\n",
              "      height: 32px;\n",
              "      padding: 0 0 0 0;\n",
              "      width: 32px;\n",
              "    }\n",
              "\n",
              "    .colab-df-convert:hover {\n",
              "      background-color: #E2EBFA;\n",
              "      box-shadow: 0px 1px 2px rgba(60, 64, 67, 0.3), 0px 1px 3px 1px rgba(60, 64, 67, 0.15);\n",
              "      fill: #174EA6;\n",
              "    }\n",
              "\n",
              "    [theme=dark] .colab-df-convert {\n",
              "      background-color: #3B4455;\n",
              "      fill: #D2E3FC;\n",
              "    }\n",
              "\n",
              "    [theme=dark] .colab-df-convert:hover {\n",
              "      background-color: #434B5C;\n",
              "      box-shadow: 0px 1px 3px 1px rgba(0, 0, 0, 0.15);\n",
              "      filter: drop-shadow(0px 1px 2px rgba(0, 0, 0, 0.3));\n",
              "      fill: #FFFFFF;\n",
              "    }\n",
              "  </style>\n",
              "\n",
              "      <script>\n",
              "        const buttonEl =\n",
              "          document.querySelector('#df-ac39fdd1-8b8d-4b04-9d2f-e29c20b98cda button.colab-df-convert');\n",
              "        buttonEl.style.display =\n",
              "          google.colab.kernel.accessAllowed ? 'block' : 'none';\n",
              "\n",
              "        async function convertToInteractive(key) {\n",
              "          const element = document.querySelector('#df-ac39fdd1-8b8d-4b04-9d2f-e29c20b98cda');\n",
              "          const dataTable =\n",
              "            await google.colab.kernel.invokeFunction('convertToInteractive',\n",
              "                                                     [key], {});\n",
              "          if (!dataTable) return;\n",
              "\n",
              "          const docLinkHtml = 'Like what you see? Visit the ' +\n",
              "            '<a target=\"_blank\" href=https://colab.research.google.com/notebooks/data_table.ipynb>data table notebook</a>'\n",
              "            + ' to learn more about interactive tables.';\n",
              "          element.innerHTML = '';\n",
              "          dataTable['output_type'] = 'display_data';\n",
              "          await google.colab.output.renderOutput(dataTable, element);\n",
              "          const docLink = document.createElement('div');\n",
              "          docLink.innerHTML = docLinkHtml;\n",
              "          element.appendChild(docLink);\n",
              "        }\n",
              "      </script>\n",
              "    </div>\n",
              "  </div>\n",
              "  "
            ]
          },
          "metadata": {},
          "execution_count": 5
        }
      ]
    },
    {
      "cell_type": "code",
      "source": [
        "#Цена сейчас пробила линию сопротивления и возможно пойдет вниз\n",
        "plt.plot(dynamics_by_volume.index, dynamics_by_volume['Open'])\n",
        "plt.title('Динамика')\n",
        "plt.xlabel('Год')\n",
        "plt.ylabel('Цена закрытия')"
      ],
      "metadata": {
        "colab": {
          "base_uri": "https://localhost:8080/",
          "height": 312
        },
        "id": "lOpDBGedeWd-",
        "outputId": "bb2214d9-bc84-459f-87c2-b2aae3e01345"
      },
      "execution_count": null,
      "outputs": [
        {
          "output_type": "execute_result",
          "data": {
            "text/plain": [
              "Text(0, 0.5, 'Цена закрытия')"
            ]
          },
          "metadata": {},
          "execution_count": 6
        },
        {
          "output_type": "display_data",
          "data": {
            "text/plain": [
              "<Figure size 432x288 with 1 Axes>"
            ],
            "image/png": "[encoded data removed]"
          },
          "metadata": {
            "needs_background": "light"
          }
        }
      ]
    },
    {
      "cell_type": "code",
      "source": [
        "#Самая высокая цена за акцию в районе 300$ - Точка сопротивления\n",
        "dynamics_by_volume.drop('Open', axis=1).plot(kind='area',\n",
        "                             title='Динамика', \n",
        "                             xlabel='Год', \n",
        "                             ylabel='Цена закрытия')"
      ],
      "metadata": {
        "colab": {
          "base_uri": "https://localhost:8080/",
          "height": 312
        },
        "id": "VlJvGt6XecvX",
        "outputId": "178d2fb5-d788-416f-b634-4e4a1d465889"
      },
      "execution_count": null,
      "outputs": [
        {
          "output_type": "execute_result",
          "data": {
            "text/plain": [
              "<matplotlib.axes._subplots.AxesSubplot at 0x7f2b5348af50>"
            ]
          },
          "metadata": {},
          "execution_count": 7
        },
        {
          "output_type": "display_data",
          "data": {
            "text/plain": [
              "<Figure size 432x288 with 1 Axes>"
            ],
            "image/png": "[encoded data removed]"
          },
          "metadata": {
            "needs_background": "light"
          }
        }
      ]
    },
    {
      "cell_type": "code",
      "source": [
        "#Cначала объем большой, далее к концу становиться мешьне\n",
        "df['Volume'].plot(kind='hist', \n",
        "                   title='Распределение объема', bins=20)"
      ],
      "metadata": {
        "colab": {
          "base_uri": "https://localhost:8080/",
          "height": 311
        },
        "id": "mRSak9PBefbf",
        "outputId": "cf55efa4-5b42-433a-e719-4c39bfb9ccd1"
      },
      "execution_count": null,
      "outputs": [
        {
          "output_type": "execute_result",
          "data": {
            "text/plain": [
              "<matplotlib.axes._subplots.AxesSubplot at 0x7f2b534e0f90>"
            ]
          },
          "metadata": {},
          "execution_count": 8
        },
        {
          "output_type": "display_data",
          "data": {
            "text/plain": [
              "<Figure size 432x288 with 1 Axes>"
            ],
            "image/png": "[encoded data removed]"
          },
          "metadata": {
            "needs_background": "light"
          }
        }
      ]
    },
    {
      "cell_type": "code",
      "source": [
        "#Волатильность между открытием и закрытием небольшая\n",
        "df['Open'].plot(kind='hist', \n",
        "                     alpha = 0.5,\n",
        "                     bins=20,\n",
        "                     density = True)\n",
        "\n",
        "\n",
        "df['Close'].plot(kind='hist', \n",
        "                     alpha = 0.5,\n",
        "                     bins=20,\n",
        "                     density = True)\n",
        "plt.legend(loc='upper left')\n",
        "plt.title('Сравнение открытия и закрытия')"
      ],
      "metadata": {
        "colab": {
          "base_uri": "https://localhost:8080/",
          "height": 298
        },
        "id": "VkMU7o0Seh-6",
        "outputId": "9904c31c-b268-4fd2-ccf2-19ec49cbc2ae"
      },
      "execution_count": null,
      "outputs": [
        {
          "output_type": "execute_result",
          "data": {
            "text/plain": [
              "Text(0.5, 1.0, 'Сравнение открытия и закрытия')"
            ]
          },
          "metadata": {},
          "execution_count": 9
        },
        {
          "output_type": "display_data",
          "data": {
            "text/plain": [
              "<Figure size 432x288 with 1 Axes>"
            ],
            "image/png": "[encoded data removed]"
          },
          "metadata": {
            "needs_background": "light"
          }
        }
      ]
    },
    {
      "cell_type": "code",
      "source": [
        "# Акции Paypall на старте набирали оборот и увернно росли \n",
        "\n",
        "dynamics_by_volume.drop('Open', axis=1).plot(kind='bar', stacked=True)"
      ],
      "metadata": {
        "colab": {
          "base_uri": "https://localhost:8080/",
          "height": 344
        },
        "id": "RhxxIUi8ek6g",
        "outputId": "ccc4d507-04d6-44a9-d0e4-1e3332448fb4"
      },
      "execution_count": null,
      "outputs": [
        {
          "output_type": "execute_result",
          "data": {
            "text/plain": [
              "<matplotlib.axes._subplots.AxesSubplot at 0x7f2b53038190>"
            ]
          },
          "metadata": {},
          "execution_count": 10
        },
        {
          "output_type": "display_data",
          "data": {
            "text/plain": [
              "<Figure size 432x288 with 1 Axes>"
            ],
            "image/png": "[encoded data removed]"
          },
          "metadata": {
            "needs_background": "light"
          }
        }
      ]
    }
  ]
}