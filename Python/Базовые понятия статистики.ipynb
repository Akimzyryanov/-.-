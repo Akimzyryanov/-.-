{
  "nbformat": 4,
  "nbformat_minor": 0,
  "metadata": {
    "colab": {
      "provenance": []
    },
    "kernelspec": {
      "name": "python3",
      "display_name": "Python 3"
    },
    "language_info": {
      "name": "python"
    }
  },
  "cells": [
    {
      "cell_type": "code",
      "source": [
        "'''\n",
        "Задание 1. Загрузка данных\n",
        "Изучить представленный набор данных на основе описания его столбцов, загрузить его и оставить 8 столбцов для дальнейшего изучения: surgery?, Age, rectal temperature, pulse, respiratory rate, temperature of extremities, pain, outcome.\n",
        "\n",
        "Задание 2. Первичное изучение данных\n",
        "Проанализировать значения по столбцам, рассчитать базовые статистики, найти выбросы.\n",
        "'''"
      ],
      "metadata": {
        "colab": {
          "base_uri": "https://localhost:8080/",
          "height": 70
        },
        "id": "6O0-cBdYzEVx",
        "outputId": "f1e6bc0a-eeb4-4b56-e14a-e2e82a3229c6"
      },
      "execution_count": 1,
      "outputs": [
        {
          "output_type": "execute_result",
          "data": {
            "text/plain": [
              "'\\nЗадание 1. Загрузка данных\\nИзучить представленный набор данных на основе описания его столбцов, загрузить его и оставить 8 столбцов для дальнейшего изучения: surgery?, Age, rectal temperature, pulse, respiratory rate, temperature of extremities, pain, outcome.\\n\\nЗадание 2. Первичное изучение данных\\nПроанализировать значения по столбцам, рассчитать базовые статистики, найти выбросы.\\n'"
            ],
            "application/vnd.google.colaboratory.intrinsic+json": {
              "type": "string"
            }
          },
          "metadata": {},
          "execution_count": 1
        }
      ]
    },
    {
      "cell_type": "code",
      "execution_count": null,
      "metadata": {
        "id": "Br44ny5EpFug"
      },
      "outputs": [],
      "source": [
        "import pandas as pd"
      ]
    },
    {
      "cell_type": "code",
      "source": [
        "#Задание 1\n",
        "horse_data = pd.read_csv('horse_data.csv', names = ['surgery', 'age', 'Hospital_Number', 'rectal_temperature',\\\n",
        "                                                    'pulse', 'respiratory_rate', 'temperature_of_extremities', \\\n",
        "                                                    'peripheral_pulse', 'mucous_membranes', 'capillary_refill_time', \\\n",
        "                                                    'pain', 'peristalsis', 'abdominal_distension', 'nasogastric_tube', \\\n",
        "                                                    'nasogastric_reflux', 'nasogastric_reflux_PH', 'rectal_examination_-_feces',\\\n",
        "                                                    'abdomen', 'packed_cell_volume', 'total_protein', \\\n",
        "                                                    'abdominocentesis_appearance', 'abdomcentesis_total_protein', 'outcome', \\\n",
        "                                                    'surgical_lesion?', 'site_of_lesion', 'type', 'specific_code', 'cp_data'], \\\n",
        "                         sep = ',', header=0, na_values='?')\n",
        "horse_data = horse_data[['surgery', 'age', 'rectal_temperature', 'pulse', 'respiratory_rate', 'temperature_of_extremities', \\\n",
        "                         'pain', 'outcome']]\n",
        "horse_data['surgery'] = horse_data.surgery.astype('Int64')\n",
        "horse_data['pain'] = horse_data.pain.astype('Int64')\n",
        "horse_data['outcome'] = horse_data.outcome.astype('Int64')\n"
      ],
      "metadata": {
        "id": "MzuJqnhUpd7C"
      },
      "execution_count": null,
      "outputs": []
    },
    {
      "cell_type": "code",
      "source": [
        "# Задание 2\n",
        "# Уникальные значения столбцов\n",
        "print(horse_data['surgery'].unique())\n",
        "print(horse_data['age'].unique())\n",
        "print(horse_data['rectal_temperature'].unique())\n",
        "print(horse_data['pulse'].unique())\n",
        "print(horse_data['respiratory_rate'].unique())\n",
        "print(horse_data['temperature_of_extremities'].unique())\n",
        "print(horse_data['pain'].unique())\n",
        "print(horse_data['outcome'].unique())"
      ],
      "metadata": {
        "id": "lkxI0UuMppNZ"
      },
      "execution_count": null,
      "outputs": []
    },
    {
      "cell_type": "code",
      "source": [
        "horse_data.describe()"
      ],
      "metadata": {
        "colab": {
          "base_uri": "https://localhost:8080/",
          "height": 300
        },
        "id": "gtXBkCX4qMyb",
        "outputId": "3a5c7cb3-4847-4208-fa4e-de6440e538e9"
      },
      "execution_count": null,
      "outputs": [
        {
          "output_type": "execute_result",
          "data": {
            "text/plain": [
              "          surgery        age  rectal_temperature       pulse  \\\n",
              "count  298.000000  299.00000          239.000000  275.000000   \n",
              "mean     1.395973    1.64214           38.166527   71.934545   \n",
              "std      0.489881    2.17730            0.733508   28.680522   \n",
              "min      1.000000    1.00000           35.400000   30.000000   \n",
              "25%      1.000000    1.00000           37.800000   48.000000   \n",
              "50%      1.000000    1.00000           38.200000   64.000000   \n",
              "75%      2.000000    1.00000           38.500000   88.000000   \n",
              "max      2.000000    9.00000           40.800000  184.000000   \n",
              "\n",
              "       respiratory_rate  temperature_of_extremities        pain     outcome  \n",
              "count        241.000000                  243.000000  244.000000  298.000000  \n",
              "mean          30.427386                    2.345679    2.942623    1.550336  \n",
              "std           17.678256                    1.046369    1.303993    0.737967  \n",
              "min            8.000000                    1.000000    1.000000    1.000000  \n",
              "25%           18.000000                    1.000000    2.000000    1.000000  \n",
              "50%           24.000000                    3.000000    3.000000    1.000000  \n",
              "75%           36.000000                    3.000000    4.000000    2.000000  \n",
              "max           96.000000                    4.000000    5.000000    3.000000  "
            ],
            "text/html": [
              "\n",
              "  <div id=\"df-bcd1e5d7-14ff-4b38-a984-5325ef435252\">\n",
              "    <div class=\"colab-df-container\">\n",
              "      <div>\n",
              "<style scoped>\n",
              "    .dataframe tbody tr th:only-of-type {\n",
              "        vertical-align: middle;\n",
              "    }\n",
              "\n",
              "    .dataframe tbody tr th {\n",
              "        vertical-align: top;\n",
              "    }\n",
              "\n",
              "    .dataframe thead th {\n",
              "        text-align: right;\n",
              "    }\n",
              "</style>\n",
              "<table border=\"1\" class=\"dataframe\">\n",
              "  <thead>\n",
              "    <tr style=\"text-align: right;\">\n",
              "      <th></th>\n",
              "      <th>surgery</th>\n",
              "      <th>age</th>\n",
              "      <th>rectal_temperature</th>\n",
              "      <th>pulse</th>\n",
              "      <th>respiratory_rate</th>\n",
              "      <th>temperature_of_extremities</th>\n",
              "      <th>pain</th>\n",
              "      <th>outcome</th>\n",
              "    </tr>\n",
              "  </thead>\n",
              "  <tbody>\n",
              "    <tr>\n",
              "      <th>count</th>\n",
              "      <td>298.000000</td>\n",
              "      <td>299.00000</td>\n",
              "      <td>239.000000</td>\n",
              "      <td>275.000000</td>\n",
              "      <td>241.000000</td>\n",
              "      <td>243.000000</td>\n",
              "      <td>244.000000</td>\n",
              "      <td>298.000000</td>\n",
              "    </tr>\n",
              "    <tr>\n",
              "      <th>mean</th>\n",
              "      <td>1.395973</td>\n",
              "      <td>1.64214</td>\n",
              "      <td>38.166527</td>\n",
              "      <td>71.934545</td>\n",
              "      <td>30.427386</td>\n",
              "      <td>2.345679</td>\n",
              "      <td>2.942623</td>\n",
              "      <td>1.550336</td>\n",
              "    </tr>\n",
              "    <tr>\n",
              "      <th>std</th>\n",
              "      <td>0.489881</td>\n",
              "      <td>2.17730</td>\n",
              "      <td>0.733508</td>\n",
              "      <td>28.680522</td>\n",
              "      <td>17.678256</td>\n",
              "      <td>1.046369</td>\n",
              "      <td>1.303993</td>\n",
              "      <td>0.737967</td>\n",
              "    </tr>\n",
              "    <tr>\n",
              "      <th>min</th>\n",
              "      <td>1.000000</td>\n",
              "      <td>1.00000</td>\n",
              "      <td>35.400000</td>\n",
              "      <td>30.000000</td>\n",
              "      <td>8.000000</td>\n",
              "      <td>1.000000</td>\n",
              "      <td>1.000000</td>\n",
              "      <td>1.000000</td>\n",
              "    </tr>\n",
              "    <tr>\n",
              "      <th>25%</th>\n",
              "      <td>1.000000</td>\n",
              "      <td>1.00000</td>\n",
              "      <td>37.800000</td>\n",
              "      <td>48.000000</td>\n",
              "      <td>18.000000</td>\n",
              "      <td>1.000000</td>\n",
              "      <td>2.000000</td>\n",
              "      <td>1.000000</td>\n",
              "    </tr>\n",
              "    <tr>\n",
              "      <th>50%</th>\n",
              "      <td>1.000000</td>\n",
              "      <td>1.00000</td>\n",
              "      <td>38.200000</td>\n",
              "      <td>64.000000</td>\n",
              "      <td>24.000000</td>\n",
              "      <td>3.000000</td>\n",
              "      <td>3.000000</td>\n",
              "      <td>1.000000</td>\n",
              "    </tr>\n",
              "    <tr>\n",
              "      <th>75%</th>\n",
              "      <td>2.000000</td>\n",
              "      <td>1.00000</td>\n",
              "      <td>38.500000</td>\n",
              "      <td>88.000000</td>\n",
              "      <td>36.000000</td>\n",
              "      <td>3.000000</td>\n",
              "      <td>4.000000</td>\n",
              "      <td>2.000000</td>\n",
              "    </tr>\n",
              "    <tr>\n",
              "      <th>max</th>\n",
              "      <td>2.000000</td>\n",
              "      <td>9.00000</td>\n",
              "      <td>40.800000</td>\n",
              "      <td>184.000000</td>\n",
              "      <td>96.000000</td>\n",
              "      <td>4.000000</td>\n",
              "      <td>5.000000</td>\n",
              "      <td>3.000000</td>\n",
              "    </tr>\n",
              "  </tbody>\n",
              "</table>\n",
              "</div>\n",
              "      <button class=\"colab-df-convert\" onclick=\"convertToInteractive('df-bcd1e5d7-14ff-4b38-a984-5325ef435252')\"\n",
              "              title=\"Convert this dataframe to an interactive table.\"\n",
              "              style=\"display:none;\">\n",
              "        \n",
              "  <svg xmlns=\"http://www.w3.org/2000/svg\" height=\"24px\"viewBox=\"0 0 24 24\"\n",
              "       width=\"24px\">\n",
              "    <path d=\"M0 0h24v24H0V0z\" fill=\"none\"/>\n",
              "    <path d=\"M18.56 5.44l.94 2.06.94-2.06 2.06-.94-2.06-.94-.94-2.06-.94 2.06-2.06.94zm-11 1L8.5 8.5l.94-2.06 2.06-.94-2.06-.94L8.5 2.5l-.94 2.06-2.06.94zm10 10l.94 2.06.94-2.06 2.06-.94-2.06-.94-.94-2.06-.94 2.06-2.06.94z\"/><path d=\"M17.41 7.96l-1.37-1.37c-.4-.4-.92-.59-1.43-.59-.52 0-1.04.2-1.43.59L10.3 9.45l-7.72 7.72c-.78.78-.78 2.05 0 2.83L4 21.41c.39.39.9.59 1.41.59.51 0 1.02-.2 1.41-.59l7.78-7.78 2.81-2.81c.8-.78.8-2.07 0-2.86zM5.41 20L4 18.59l7.72-7.72 1.47 1.35L5.41 20z\"/>\n",
              "  </svg>\n",
              "      </button>\n",
              "      \n",
              "  <style>\n",
              "    .colab-df-container {\n",
              "      display:flex;\n",
              "      flex-wrap:wrap;\n",
              "      gap: 12px;\n",
              "    }\n",
              "\n",
              "    .colab-df-convert {\n",
              "      background-color: #E8F0FE;\n",
              "      border: none;\n",
              "      border-radius: 50%;\n",
              "      cursor: pointer;\n",
              "      display: none;\n",
              "      fill: #1967D2;\n",
              "      height: 32px;\n",
              "      padding: 0 0 0 0;\n",
              "      width: 32px;\n",
              "    }\n",
              "\n",
              "    .colab-df-convert:hover {\n",
              "      background-color: #E2EBFA;\n",
              "      box-shadow: 0px 1px 2px rgba(60, 64, 67, 0.3), 0px 1px 3px 1px rgba(60, 64, 67, 0.15);\n",
              "      fill: #174EA6;\n",
              "    }\n",
              "\n",
              "    [theme=dark] .colab-df-convert {\n",
              "      background-color: #3B4455;\n",
              "      fill: #D2E3FC;\n",
              "    }\n",
              "\n",
              "    [theme=dark] .colab-df-convert:hover {\n",
              "      background-color: #434B5C;\n",
              "      box-shadow: 0px 1px 3px 1px rgba(0, 0, 0, 0.15);\n",
              "      filter: drop-shadow(0px 1px 2px rgba(0, 0, 0, 0.3));\n",
              "      fill: #FFFFFF;\n",
              "    }\n",
              "  </style>\n",
              "\n",
              "      <script>\n",
              "        const buttonEl =\n",
              "          document.querySelector('#df-bcd1e5d7-14ff-4b38-a984-5325ef435252 button.colab-df-convert');\n",
              "        buttonEl.style.display =\n",
              "          google.colab.kernel.accessAllowed ? 'block' : 'none';\n",
              "\n",
              "        async function convertToInteractive(key) {\n",
              "          const element = document.querySelector('#df-bcd1e5d7-14ff-4b38-a984-5325ef435252');\n",
              "          const dataTable =\n",
              "            await google.colab.kernel.invokeFunction('convertToInteractive',\n",
              "                                                     [key], {});\n",
              "          if (!dataTable) return;\n",
              "\n",
              "          const docLinkHtml = 'Like what you see? Visit the ' +\n",
              "            '<a target=\"_blank\" href=https://colab.research.google.com/notebooks/data_table.ipynb>data table notebook</a>'\n",
              "            + ' to learn more about interactive tables.';\n",
              "          element.innerHTML = '';\n",
              "          dataTable['output_type'] = 'display_data';\n",
              "          await google.colab.output.renderOutput(dataTable, element);\n",
              "          const docLink = document.createElement('div');\n",
              "          docLink.innerHTML = docLinkHtml;\n",
              "          element.appendChild(docLink);\n",
              "        }\n",
              "      </script>\n",
              "    </div>\n",
              "  </div>\n",
              "  "
            ]
          },
          "metadata": {},
          "execution_count": 5
        }
      ]
    },
    {
      "cell_type": "code",
      "source": [
        "# Моды\n",
        "print(horse_data['surgery'].mode()[0])\n",
        "print(horse_data['age'].mode()[0])\n",
        "print(horse_data['rectal_temperature'].mode()[0])\n",
        "print(horse_data['pulse'].mode()[0])\n",
        "print(horse_data['respiratory_rate'].mode()[0])\n",
        "print(horse_data['temperature_of_extremities'].mode()[0])\n",
        "print(horse_data['pain'].mode()[0])\n",
        "print(horse_data['outcome'].mode()[0])"
      ],
      "metadata": {
        "colab": {
          "base_uri": "https://localhost:8080/"
        },
        "id": "O5Peb34GqcV7",
        "outputId": "1ff5cd7b-68d5-4221-dcd5-f1a653ea809e"
      },
      "execution_count": null,
      "outputs": [
        {
          "output_type": "stream",
          "name": "stdout",
          "text": [
            "1\n",
            "1\n",
            "38.0\n",
            "48.0\n",
            "20.0\n",
            "3.0\n",
            "3\n",
            "1\n"
          ]
        }
      ]
    },
    {
      "cell_type": "code",
      "source": [
        "# Дисперсии\n",
        "print(horse_data['surgery'].var())\n",
        "print(horse_data['age'].var())\n",
        "print(horse_data['rectal_temperature'].var())\n",
        "print(horse_data['pulse'].var())\n",
        "print(horse_data['respiratory_rate'].var())\n",
        "print(horse_data['temperature_of_extremities'].var())\n",
        "print(horse_data['pain'].var())\n",
        "print(horse_data['outcome'].var())"
      ],
      "metadata": {
        "colab": {
          "base_uri": "https://localhost:8080/"
        },
        "id": "FJJXrstZqwA_",
        "outputId": "7a14e6ec-efd6-428f-d887-6fe426253948"
      },
      "execution_count": null,
      "outputs": [
        {
          "output_type": "stream",
          "name": "stdout",
          "text": [
            "0.23998372991661587\n",
            "4.740634329195755\n",
            "0.5380345276185787\n",
            "822.5723424021243\n",
            "312.5207468879668\n",
            "1.09488827670646\n",
            "1.7003980300883765\n",
            "0.5445958466092694\n"
          ]
        }
      ]
    },
    {
      "cell_type": "code",
      "source": [
        "#Задание 2\n",
        "horse_data_clear = horse_data\n",
        "horse_data_clear"
      ],
      "metadata": {
        "colab": {
          "base_uri": "https://localhost:8080/",
          "height": 424
        },
        "id": "VpHaW6T-rcYq",
        "outputId": "14fc6709-1f5a-4f34-88e4-a413999d9597"
      },
      "execution_count": null,
      "outputs": [
        {
          "output_type": "execute_result",
          "data": {
            "text/plain": [
              "     surgery  age  rectal_temperature  pulse  respiratory_rate  \\\n",
              "0          1    1                39.2   88.0              20.0   \n",
              "1          2    1                38.3   40.0              24.0   \n",
              "2          1    9                39.1  164.0              84.0   \n",
              "3          2    1                37.3  104.0              35.0   \n",
              "4          2    1                 NaN    NaN               NaN   \n",
              "..       ...  ...                 ...    ...               ...   \n",
              "294        1    1                 NaN  120.0              70.0   \n",
              "295        2    1                37.2   72.0              24.0   \n",
              "296        1    1                37.5   72.0              30.0   \n",
              "297        1    1                36.5  100.0              24.0   \n",
              "298        1    1                37.2   40.0              20.0   \n",
              "\n",
              "     temperature_of_extremities  pain  outcome  \n",
              "0                           NaN     3        3  \n",
              "1                           1.0     3        1  \n",
              "2                           4.0     2        2  \n",
              "3                           NaN  <NA>        2  \n",
              "4                           2.0     2        1  \n",
              "..                          ...   ...      ...  \n",
              "294                         4.0     2        3  \n",
              "295                         3.0     4        3  \n",
              "296                         4.0     4        2  \n",
              "297                         3.0     3        1  \n",
              "298                         NaN  <NA>        3  \n",
              "\n",
              "[299 rows x 8 columns]"
            ],
            "text/html": [
              "\n",
              "  <div id=\"df-6db57f1b-b7a4-4349-9468-9720cb3d302e\">\n",
              "    <div class=\"colab-df-container\">\n",
              "      <div>\n",
              "<style scoped>\n",
              "    .dataframe tbody tr th:only-of-type {\n",
              "        vertical-align: middle;\n",
              "    }\n",
              "\n",
              "    .dataframe tbody tr th {\n",
              "        vertical-align: top;\n",
              "    }\n",
              "\n",
              "    .dataframe thead th {\n",
              "        text-align: right;\n",
              "    }\n",
              "</style>\n",
              "<table border=\"1\" class=\"dataframe\">\n",
              "  <thead>\n",
              "    <tr style=\"text-align: right;\">\n",
              "      <th></th>\n",
              "      <th>surgery</th>\n",
              "      <th>age</th>\n",
              "      <th>rectal_temperature</th>\n",
              "      <th>pulse</th>\n",
              "      <th>respiratory_rate</th>\n",
              "      <th>temperature_of_extremities</th>\n",
              "      <th>pain</th>\n",
              "      <th>outcome</th>\n",
              "    </tr>\n",
              "  </thead>\n",
              "  <tbody>\n",
              "    <tr>\n",
              "      <th>0</th>\n",
              "      <td>1</td>\n",
              "      <td>1</td>\n",
              "      <td>39.2</td>\n",
              "      <td>88.0</td>\n",
              "      <td>20.0</td>\n",
              "      <td>NaN</td>\n",
              "      <td>3</td>\n",
              "      <td>3</td>\n",
              "    </tr>\n",
              "    <tr>\n",
              "      <th>1</th>\n",
              "      <td>2</td>\n",
              "      <td>1</td>\n",
              "      <td>38.3</td>\n",
              "      <td>40.0</td>\n",
              "      <td>24.0</td>\n",
              "      <td>1.0</td>\n",
              "      <td>3</td>\n",
              "      <td>1</td>\n",
              "    </tr>\n",
              "    <tr>\n",
              "      <th>2</th>\n",
              "      <td>1</td>\n",
              "      <td>9</td>\n",
              "      <td>39.1</td>\n",
              "      <td>164.0</td>\n",
              "      <td>84.0</td>\n",
              "      <td>4.0</td>\n",
              "      <td>2</td>\n",
              "      <td>2</td>\n",
              "    </tr>\n",
              "    <tr>\n",
              "      <th>3</th>\n",
              "      <td>2</td>\n",
              "      <td>1</td>\n",
              "      <td>37.3</td>\n",
              "      <td>104.0</td>\n",
              "      <td>35.0</td>\n",
              "      <td>NaN</td>\n",
              "      <td>&lt;NA&gt;</td>\n",
              "      <td>2</td>\n",
              "    </tr>\n",
              "    <tr>\n",
              "      <th>4</th>\n",
              "      <td>2</td>\n",
              "      <td>1</td>\n",
              "      <td>NaN</td>\n",
              "      <td>NaN</td>\n",
              "      <td>NaN</td>\n",
              "      <td>2.0</td>\n",
              "      <td>2</td>\n",
              "      <td>1</td>\n",
              "    </tr>\n",
              "    <tr>\n",
              "      <th>...</th>\n",
              "      <td>...</td>\n",
              "      <td>...</td>\n",
              "      <td>...</td>\n",
              "      <td>...</td>\n",
              "      <td>...</td>\n",
              "      <td>...</td>\n",
              "      <td>...</td>\n",
              "      <td>...</td>\n",
              "    </tr>\n",
              "    <tr>\n",
              "      <th>294</th>\n",
              "      <td>1</td>\n",
              "      <td>1</td>\n",
              "      <td>NaN</td>\n",
              "      <td>120.0</td>\n",
              "      <td>70.0</td>\n",
              "      <td>4.0</td>\n",
              "      <td>2</td>\n",
              "      <td>3</td>\n",
              "    </tr>\n",
              "    <tr>\n",
              "      <th>295</th>\n",
              "      <td>2</td>\n",
              "      <td>1</td>\n",
              "      <td>37.2</td>\n",
              "      <td>72.0</td>\n",
              "      <td>24.0</td>\n",
              "      <td>3.0</td>\n",
              "      <td>4</td>\n",
              "      <td>3</td>\n",
              "    </tr>\n",
              "    <tr>\n",
              "      <th>296</th>\n",
              "      <td>1</td>\n",
              "      <td>1</td>\n",
              "      <td>37.5</td>\n",
              "      <td>72.0</td>\n",
              "      <td>30.0</td>\n",
              "      <td>4.0</td>\n",
              "      <td>4</td>\n",
              "      <td>2</td>\n",
              "    </tr>\n",
              "    <tr>\n",
              "      <th>297</th>\n",
              "      <td>1</td>\n",
              "      <td>1</td>\n",
              "      <td>36.5</td>\n",
              "      <td>100.0</td>\n",
              "      <td>24.0</td>\n",
              "      <td>3.0</td>\n",
              "      <td>3</td>\n",
              "      <td>1</td>\n",
              "    </tr>\n",
              "    <tr>\n",
              "      <th>298</th>\n",
              "      <td>1</td>\n",
              "      <td>1</td>\n",
              "      <td>37.2</td>\n",
              "      <td>40.0</td>\n",
              "      <td>20.0</td>\n",
              "      <td>NaN</td>\n",
              "      <td>&lt;NA&gt;</td>\n",
              "      <td>3</td>\n",
              "    </tr>\n",
              "  </tbody>\n",
              "</table>\n",
              "<p>299 rows × 8 columns</p>\n",
              "</div>\n",
              "      <button class=\"colab-df-convert\" onclick=\"convertToInteractive('df-6db57f1b-b7a4-4349-9468-9720cb3d302e')\"\n",
              "              title=\"Convert this dataframe to an interactive table.\"\n",
              "              style=\"display:none;\">\n",
              "        \n",
              "  <svg xmlns=\"http://www.w3.org/2000/svg\" height=\"24px\"viewBox=\"0 0 24 24\"\n",
              "       width=\"24px\">\n",
              "    <path d=\"M0 0h24v24H0V0z\" fill=\"none\"/>\n",
              "    <path d=\"M18.56 5.44l.94 2.06.94-2.06 2.06-.94-2.06-.94-.94-2.06-.94 2.06-2.06.94zm-11 1L8.5 8.5l.94-2.06 2.06-.94-2.06-.94L8.5 2.5l-.94 2.06-2.06.94zm10 10l.94 2.06.94-2.06 2.06-.94-2.06-.94-.94-2.06-.94 2.06-2.06.94z\"/><path d=\"M17.41 7.96l-1.37-1.37c-.4-.4-.92-.59-1.43-.59-.52 0-1.04.2-1.43.59L10.3 9.45l-7.72 7.72c-.78.78-.78 2.05 0 2.83L4 21.41c.39.39.9.59 1.41.59.51 0 1.02-.2 1.41-.59l7.78-7.78 2.81-2.81c.8-.78.8-2.07 0-2.86zM5.41 20L4 18.59l7.72-7.72 1.47 1.35L5.41 20z\"/>\n",
              "  </svg>\n",
              "      </button>\n",
              "      \n",
              "  <style>\n",
              "    .colab-df-container {\n",
              "      display:flex;\n",
              "      flex-wrap:wrap;\n",
              "      gap: 12px;\n",
              "    }\n",
              "\n",
              "    .colab-df-convert {\n",
              "      background-color: #E8F0FE;\n",
              "      border: none;\n",
              "      border-radius: 50%;\n",
              "      cursor: pointer;\n",
              "      display: none;\n",
              "      fill: #1967D2;\n",
              "      height: 32px;\n",
              "      padding: 0 0 0 0;\n",
              "      width: 32px;\n",
              "    }\n",
              "\n",
              "    .colab-df-convert:hover {\n",
              "      background-color: #E2EBFA;\n",
              "      box-shadow: 0px 1px 2px rgba(60, 64, 67, 0.3), 0px 1px 3px 1px rgba(60, 64, 67, 0.15);\n",
              "      fill: #174EA6;\n",
              "    }\n",
              "\n",
              "    [theme=dark] .colab-df-convert {\n",
              "      background-color: #3B4455;\n",
              "      fill: #D2E3FC;\n",
              "    }\n",
              "\n",
              "    [theme=dark] .colab-df-convert:hover {\n",
              "      background-color: #434B5C;\n",
              "      box-shadow: 0px 1px 3px 1px rgba(0, 0, 0, 0.15);\n",
              "      filter: drop-shadow(0px 1px 2px rgba(0, 0, 0, 0.3));\n",
              "      fill: #FFFFFF;\n",
              "    }\n",
              "  </style>\n",
              "\n",
              "      <script>\n",
              "        const buttonEl =\n",
              "          document.querySelector('#df-6db57f1b-b7a4-4349-9468-9720cb3d302e button.colab-df-convert');\n",
              "        buttonEl.style.display =\n",
              "          google.colab.kernel.accessAllowed ? 'block' : 'none';\n",
              "\n",
              "        async function convertToInteractive(key) {\n",
              "          const element = document.querySelector('#df-6db57f1b-b7a4-4349-9468-9720cb3d302e');\n",
              "          const dataTable =\n",
              "            await google.colab.kernel.invokeFunction('convertToInteractive',\n",
              "                                                     [key], {});\n",
              "          if (!dataTable) return;\n",
              "\n",
              "          const docLinkHtml = 'Like what you see? Visit the ' +\n",
              "            '<a target=\"_blank\" href=https://colab.research.google.com/notebooks/data_table.ipynb>data table notebook</a>'\n",
              "            + ' to learn more about interactive tables.';\n",
              "          element.innerHTML = '';\n",
              "          dataTable['output_type'] = 'display_data';\n",
              "          await google.colab.output.renderOutput(dataTable, element);\n",
              "          const docLink = document.createElement('div');\n",
              "          docLink.innerHTML = docLinkHtml;\n",
              "          element.appendChild(docLink);\n",
              "        }\n",
              "      </script>\n",
              "    </div>\n",
              "  </div>\n",
              "  "
            ]
          },
          "metadata": {},
          "execution_count": 10
        }
      ]
    },
    {
      "cell_type": "code",
      "source": [
        "(horse_data_clear.isna().mean() * 100).round(2)"
      ],
      "metadata": {
        "colab": {
          "base_uri": "https://localhost:8080/"
        },
        "id": "IIcSLnu5rumG",
        "outputId": "b7463f7e-c8c1-4172-9749-a772dcfa0d37"
      },
      "execution_count": null,
      "outputs": [
        {
          "output_type": "execute_result",
          "data": {
            "text/plain": [
              "surgery                        0.33\n",
              "age                            0.00\n",
              "rectal_temperature            20.07\n",
              "pulse                          8.03\n",
              "respiratory_rate              19.40\n",
              "temperature_of_extremities    18.73\n",
              "pain                          18.39\n",
              "outcome                        0.33\n",
              "dtype: float64"
            ]
          },
          "metadata": {},
          "execution_count": 11
        }
      ]
    },
    {
      "cell_type": "code",
      "source": [
        "horse_data_clear['surgery'].fillna(horse_data_clear['surgery'].mode()[0], inplace=True)\n",
        "print(horse_data_clear['surgery'].isna().sum())\n",
        "print(horse_data_clear['surgery'].unique())"
      ],
      "metadata": {
        "colab": {
          "base_uri": "https://localhost:8080/"
        },
        "id": "wIki6zYZsSty",
        "outputId": "957bc127-dbc5-4370-8d3b-26b4e67b306d"
      },
      "execution_count": null,
      "outputs": [
        {
          "output_type": "stream",
          "name": "stdout",
          "text": [
            "0\n",
            "<IntegerArray>\n",
            "[1, 2]\n",
            "Length: 2, dtype: Int64\n"
          ]
        }
      ]
    },
    {
      "cell_type": "code",
      "source": [
        "horse_data_clear['outcome'].fillna(horse_data_clear['outcome'].mode()[0], inplace=True)\n",
        "print(horse_data_clear['outcome'].isna().sum())\n",
        "print(horse_data_clear['outcome'].unique())"
      ],
      "metadata": {
        "colab": {
          "base_uri": "https://localhost:8080/"
        },
        "id": "uT_cbBrawQXu",
        "outputId": "7bcdbc78-6d3a-4eb3-b740-cc19ce103a5f"
      },
      "execution_count": null,
      "outputs": [
        {
          "output_type": "stream",
          "name": "stdout",
          "text": [
            "0\n",
            "<IntegerArray>\n",
            "[3, 1, 2]\n",
            "Length: 3, dtype: Int64\n"
          ]
        }
      ]
    },
    {
      "cell_type": "code",
      "source": [
        "fill_median = horse_data_clear\n",
        "\n",
        "fill_median['pain'].fillna(horse_data_clear['pain'].median(), inplace=True)\n",
        "print(fill_median['pain'].fillna(horse_data_clear['pain'].median()).isna().sum())\n",
        "print(fill_median['pain'].unique())"
      ],
      "metadata": {
        "colab": {
          "base_uri": "https://localhost:8080/"
        },
        "id": "kCzBTmJVwfe-",
        "outputId": "0e2c094a-850a-4931-d853-3b6388a20bef"
      },
      "execution_count": null,
      "outputs": [
        {
          "output_type": "stream",
          "name": "stdout",
          "text": [
            "0\n",
            "<IntegerArray>\n",
            "[3, 2, 4, 5, 1]\n",
            "Length: 5, dtype: Int64\n"
          ]
        }
      ]
    },
    {
      "cell_type": "code",
      "source": [
        "print(fill_median['pain'].describe())"
      ],
      "metadata": {
        "colab": {
          "base_uri": "https://localhost:8080/"
        },
        "id": "IEA0fO_lIf98",
        "outputId": "5ff20d3a-cb67-43e3-d226-058b15e8198a"
      },
      "execution_count": null,
      "outputs": [
        {
          "output_type": "stream",
          "name": "stdout",
          "text": [
            "count    299.000000\n",
            "mean       2.953177\n",
            "std        1.177736\n",
            "min        1.000000\n",
            "25%        2.000000\n",
            "50%        3.000000\n",
            "75%        4.000000\n",
            "max        5.000000\n",
            "Name: pain, dtype: float64\n"
          ]
        }
      ]
    },
    {
      "cell_type": "code",
      "source": [
        "fill_moda = horse_data_clear\n",
        "\n",
        "fill_moda['pain'].fillna(horse_data_clear['pain'].mode()[0], inplace=True)\n",
        "print(fill_moda['pain'].isna().sum())\n",
        "print(fill_moda['pain'].unique())"
      ],
      "metadata": {
        "colab": {
          "base_uri": "https://localhost:8080/"
        },
        "id": "jwSLiOA3IidC",
        "outputId": "4bcec503-67dc-452d-c873-9f0237e71908"
      },
      "execution_count": null,
      "outputs": [
        {
          "output_type": "stream",
          "name": "stdout",
          "text": [
            "0\n",
            "<IntegerArray>\n",
            "[3, 2, 4, 5, 1]\n",
            "Length: 5, dtype: Int64\n"
          ]
        }
      ]
    },
    {
      "cell_type": "code",
      "source": [
        "print(fill_moda['pain'].describe())"
      ],
      "metadata": {
        "colab": {
          "base_uri": "https://localhost:8080/"
        },
        "id": "6dgzCe_uIpzr",
        "outputId": "69d2ff8f-b902-43a8-fcce-f001198dc6d9"
      },
      "execution_count": null,
      "outputs": [
        {
          "output_type": "stream",
          "name": "stdout",
          "text": [
            "count    299.000000\n",
            "mean       2.953177\n",
            "std        1.177736\n",
            "min        1.000000\n",
            "25%        2.000000\n",
            "50%        3.000000\n",
            "75%        4.000000\n",
            "max        5.000000\n",
            "Name: pain, dtype: float64\n"
          ]
        }
      ]
    },
    {
      "cell_type": "code",
      "source": [
        "horse_data_clear['pain'].fillna(horse_data_clear['pain'].mode()[0], inplace=True)\n",
        "print(horse_data_clear['pain'].isna().sum())\n",
        "print(horse_data_clear['pain'].unique())"
      ],
      "metadata": {
        "colab": {
          "base_uri": "https://localhost:8080/"
        },
        "id": "D3tZE7JNItpO",
        "outputId": "27620a57-50a0-4114-8855-0a6f5eb0c1c6"
      },
      "execution_count": null,
      "outputs": [
        {
          "output_type": "stream",
          "name": "stdout",
          "text": [
            "0\n",
            "<IntegerArray>\n",
            "[3, 2, 4, 5, 1]\n",
            "Length: 5, dtype: Int64\n"
          ]
        }
      ]
    },
    {
      "cell_type": "code",
      "source": [
        "horse_data_clear.info()"
      ],
      "metadata": {
        "colab": {
          "base_uri": "https://localhost:8080/"
        },
        "id": "sDWTWiggI9Qw",
        "outputId": "edc138a0-8832-451f-ac02-31546a46f3cf"
      },
      "execution_count": null,
      "outputs": [
        {
          "output_type": "stream",
          "name": "stdout",
          "text": [
            "<class 'pandas.core.frame.DataFrame'>\n",
            "RangeIndex: 299 entries, 0 to 298\n",
            "Data columns (total 8 columns):\n",
            " #   Column                      Non-Null Count  Dtype  \n",
            "---  ------                      --------------  -----  \n",
            " 0   surgery                     299 non-null    Int64  \n",
            " 1   age                         299 non-null    int64  \n",
            " 2   rectal_temperature          239 non-null    float64\n",
            " 3   pulse                       275 non-null    float64\n",
            " 4   respiratory_rate            241 non-null    float64\n",
            " 5   temperature_of_extremities  243 non-null    float64\n",
            " 6   pain                        299 non-null    Int64  \n",
            " 7   outcome                     299 non-null    Int64  \n",
            "dtypes: Int64(3), float64(4), int64(1)\n",
            "memory usage: 19.7 KB\n"
          ]
        }
      ]
    },
    {
      "cell_type": "code",
      "source": [
        "horse_data_clear['rectal_temperature'].fillna(horse_data_clear.groupby(['surgery', 'age'])['rectal_temperature'].transform('median'), inplace=True)\n",
        "horse_data_clear['pulse'].fillna(horse_data_clear.groupby(['pain', 'age'])['pulse'].transform('median'), inplace=True)\n",
        "horse_data_clear['temperature_of_extremities'].fillna(horse_data_clear.groupby(['age', 'outcome'])['temperature_of_extremities'].transform('median'), inplace=True)\n",
        "horse_data_clear['respiratory_rate'].fillna(horse_data_clear.groupby(['outcome', 'age'])['respiratory_rate'].transform('median'), inplace=True)"
      ],
      "metadata": {
        "id": "Vb6dgAWCJLuE"
      },
      "execution_count": null,
      "outputs": []
    },
    {
      "cell_type": "code",
      "source": [
        "horse_data_clear['respiratory_rate'].fillna(horse_data_clear['respiratory_rate'].median(), inplace=True)"
      ],
      "metadata": {
        "id": "g7jnRuf-JpWO"
      },
      "execution_count": null,
      "outputs": []
    },
    {
      "cell_type": "code",
      "source": [
        "horse_data_clear.info()"
      ],
      "metadata": {
        "colab": {
          "base_uri": "https://localhost:8080/"
        },
        "id": "ph34oNF1Jys3",
        "outputId": "b6cc0214-3be4-4c0a-e986-f92bbd44cd70"
      },
      "execution_count": null,
      "outputs": [
        {
          "output_type": "stream",
          "name": "stdout",
          "text": [
            "<class 'pandas.core.frame.DataFrame'>\n",
            "RangeIndex: 299 entries, 0 to 298\n",
            "Data columns (total 8 columns):\n",
            " #   Column                      Non-Null Count  Dtype  \n",
            "---  ------                      --------------  -----  \n",
            " 0   surgery                     299 non-null    Int64  \n",
            " 1   age                         299 non-null    int64  \n",
            " 2   rectal_temperature          299 non-null    float64\n",
            " 3   pulse                       299 non-null    float64\n",
            " 4   respiratory_rate            299 non-null    float64\n",
            " 5   temperature_of_extremities  299 non-null    float64\n",
            " 6   pain                        299 non-null    Int64  \n",
            " 7   outcome                     299 non-null    Int64  \n",
            "dtypes: Int64(3), float64(4), int64(1)\n",
            "memory usage: 19.7 KB\n"
          ]
        }
      ]
    }
  ]
}