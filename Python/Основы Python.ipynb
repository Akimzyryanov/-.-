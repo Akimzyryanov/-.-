{
  "nbformat": 4,
  "nbformat_minor": 0,
  "metadata": {
    "colab": {
      "provenance": []
    },
    "kernelspec": {
      "name": "python3",
      "display_name": "Python 3"
    },
    "language_info": {
      "name": "python"
    }
  },
  "cells": [
    {
      "cell_type": "code",
      "source": [
        "# Задания: https://github.com/obulygin/pyda_homeworks/blob/master/python_basics/python_basics.ipynb "
      ],
      "metadata": {
        "id": "6uBSnkNhwNaE"
      },
      "execution_count": null,
      "outputs": []
    },
    {
      "cell_type": "code",
      "source": [
        "#Задание 1\n",
        "\n",
        "name_1 = \"Helloworld\"\n",
        "name_2 = \"Yuавпавпва\"\n",
        "if len(name_1) > len(name_2):\n",
        "    print ('Первая строка длиннее второй')\n",
        "elif len(name_1) < len(name_2):\n",
        "    print ('Вторая строка длиннее первой')\n",
        "elif len(name_1) == len(name_2):\n",
        "    print ('Строки равны')\n",
        "\n",
        "\n"
      ],
      "metadata": {
        "id": "PwyVvxex7ZLa"
      },
      "execution_count": null,
      "outputs": []
    },
    {
      "cell_type": "code",
      "source": [
        "#Задание 2\n",
        "year = int(input(\"Введите год\"))\n",
        "if (year % 4 == 0) and (year % 100 != 0) or (year % 400 == 0):\n",
        "    print('Высокостный год')\n",
        "else:\n",
        "    print('Обычный год')"
      ],
      "metadata": {
        "colab": {
          "base_uri": "https://localhost:8080/"
        },
        "id": "ck92dIaPis4f",
        "outputId": "cf315a9a-ca6a-4a2e-e1a8-aa1942904c94"
      },
      "execution_count": null,
      "outputs": [
        {
          "output_type": "stream",
          "name": "stdout",
          "text": [
            "Введите год2000\n",
            "Высокостный год\n"
          ]
        }
      ]
    },
    {
      "cell_type": "code",
      "source": [
        "#Задание 3\n",
        "\n",
        "date=int(input(\"Введите день рождения:\"))\n",
        "\n",
        "month=str(input(\"Введите месяц рождения:\"))\n",
        "\n",
        "year=int(input(\"Введите год рождения:\"))\n",
        "\n",
        "\n",
        "if (date>=21 and date<=31 and month==\"Март\") or( month==\"Апрель\" and date>=1 and date<=19):\n",
        "\n",
        "   print(\"Знак зодиака:Овен\")\n",
        "\n",
        "elif (date>=20 and date<=30 and month==\"Апрель\") or( month==\"Май\" and date>=1 and date<=20):\n",
        "\n",
        "   print(\"Знак зодиака:Телец\")\n",
        "\n",
        "elif (date>=21 and date<=31 and month==\"Май\") or( month==\"Июнь\" and date>=1 and date<=21):\n",
        "\n",
        "   print(\"Знак зодиака:Близнецы\")\n",
        "\n",
        "elif (date>=22 and date<=30 and month==\"Июнь\") or( month==\"Июль\" and date>=1 and date<=22):\n",
        "\n",
        "   print(\"Знак зодиака:Рак\")\n",
        "\n",
        "elif (date>=23 and date<=31 and month==\"Июль\") or( month==\"Август\" and date>=1 and date<=22):\n",
        "\n",
        "   print(\"Знак зодиака:Лев\")\n",
        "\n",
        "elif (date>=23 and date<=31 and month==\"Август\") or( month==\"Сентябрь\" and date>=1 and date<=22):\n",
        "\n",
        "   print(\"Знак зодиака:Дева\")\n",
        "\n",
        "elif (date>=23 and date<=30 and month==\"Сентябрь\") or( month==\"Октябрь\" and date>=1 and date<=23):\n",
        "\n",
        "   print(\"Знак зодиака:Весы\")\n",
        "\n",
        "elif (date>=24 and date<=31 and month==\"Октябрь\") or( month==\"Ноябрь\" and date>=1 and date<=22):\n",
        "\n",
        "   print(\"Знак зодиака:Скорпион\")\n",
        "\n",
        "elif (date>=23 and date<=30 and month==\"Ноябрь\") or( month==\"Декабрь\" and date>=1 and date<=21):\n",
        "\n",
        "   print(\"Знак зодиака:Стрелец\")\n",
        "\n",
        "elif (date>=22 and date<=31 and month==\"Декабрь\") or( month==\"Январь\" and date>=1 and date<=20):\n",
        "\n",
        "   print(\"Знак зодиака:Козерог\")\n",
        "\n",
        "elif (date>=21 and date<=31 and month==\"Январь\") or( month==\"Февраль\" and date>=1 and date<=18):\n",
        "\n",
        "   print(\"Знак зодиака:Водолей\")\n",
        "\n",
        "elif (date>=19 and date<=29 and month==\"Февраль\") or( month==\"Март\" and date>=1 and date<=20):\n",
        "\n",
        "   print(\"Знак зодиака:Рыбы\")\n"
      ],
      "metadata": {
        "colab": {
          "base_uri": "https://localhost:8080/"
        },
        "id": "Q-3KrYsjitRi",
        "outputId": "a4a31e43-8a7c-4413-9800-45341ee30c66"
      },
      "execution_count": null,
      "outputs": [
        {
          "output_type": "stream",
          "name": "stdout",
          "text": [
            "Введите день рождения:20\n",
            "Введите месяц рождения:Май\n",
            "Введите год рождения:2000\n",
            "Знак зодиака:Телец\n"
          ]
        }
      ]
    },
    {
      "cell_type": "code",
      "source": [
        "#Задание 4\n",
        "\n",
        "width=int(input(\"Ширина\"))\n",
        "length=int(input(\"Длинна\"))\n",
        "height=int(input(\"Высота\"))\n",
        "if (width<=15 and length<=15 and height<=15):\n",
        "    print('Коробка №1')\n",
        "elif (width>15 and width<50) or (length>15 and length<50) or (height>15 and height<50):\n",
        "    print('Коробка №2')\n",
        "elif (width + length + height)>200:\n",
        "    print('Упаковка для лыж')\n",
        "else:\n",
        "    print('Стандартная коробка №3')"
      ],
      "metadata": {
        "colab": {
          "base_uri": "https://localhost:8080/"
        },
        "id": "8MlWZO50iteo",
        "outputId": "13c96cfd-0ebb-407c-8324-a7ce5574171b"
      },
      "execution_count": null,
      "outputs": [
        {
          "output_type": "stream",
          "name": "stdout",
          "text": [
            "Ширина20\n",
            "Длинна30\n",
            "Высота50\n",
            "Коробка №2\n"
          ]
        }
      ]
    }
  ]
}