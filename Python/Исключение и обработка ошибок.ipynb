{
  "nbformat": 4,
  "nbformat_minor": 0,
  "metadata": {
    "colab": {
      "provenance": []
    },
    "kernelspec": {
      "name": "python3",
      "display_name": "Python 3"
    },
    "language_info": {
      "name": "python"
    }
  },
  "cells": [
    {
      "cell_type": "code",
      "source": [
        "# Задание: \n",
        "''' Задание 1\n",
        "Печатные газеты использовали свой формат дат для каждого выпуска. Для каждой газеты из списка напишите формат указанной даты для перевода в объект datetime:\n",
        "The Moscow Times — Wednesday, October 2, 2002\n",
        "The Guardian — Friday, 11.10.13\n",
        "Daily News — Thursday, 18 August 1977\n",
        "\n",
        "Задание 2\n",
        "Дан поток дат в формате YYYY-MM-DD, в которых встречаются некорректные значения:\n",
        "stream = [‘2018-04-02’, ‘2018-02-29’, ‘2018-19-02’]\n",
        "\n",
        "Напишите функцию, которая проверяет эти даты на корректность. То есть для каждой даты возвращает True — дата корректна или False — некорректная.\n",
        "\n",
        "Задание 3\n",
        "Напишите функцию date_range, которая возвращает список дат за период от start_date до end_date. Даты должны вводиться в формате YYYY-MM-DD. В случае неверного формата или при start_date > end_date должен возвращаться пустой список.\n",
        "\n",
        "Задание 4 (необязательное)\n",
        "Ваш коллега прислал код функции:\n",
        "\n",
        "DEFAULT_USER_COUNT = 3\n",
        "\n",
        "def delete_and_return_last_user(region, default_list=[‘A100’, ‘A101’, ‘A102’]):\n",
        "\"\"“\n",
        "Удаляет из списка default_list последнего пользователя\n",
        "и возвращает ID нового последнего пользователя.\n",
        "”\"\"\n",
        "element_to_delete = default_list[-1]\n",
        "default_list.remove(element_to_delete)\n",
        "\n",
        "1\n",
        "return default_list[DEFAULT_USER_COUNT-2]\n",
        "При однократном вызове этой функции всё работает корректно:\n",
        "delete_and_return_last_user(1)\n",
        "‘A101’\n",
        "\n",
        "Однако при повторном вызове получается ошибка IndexError: list index out of range.\n",
        "\n",
        "Задание:\n",
        "\n",
        "Что значит ошибка list index out of range?\n",
        "Почему при первом запуске функция работает корректно, а при втором — нет?\n",
        "###\n",
        "'''"
      ],
      "metadata": {
        "colab": {
          "base_uri": "https://localhost:8080/",
          "height": 140
        },
        "id": "2kc57YcmvHK4",
        "outputId": "47078b99-b7a4-474e-df85-88eaba1521c0"
      },
      "execution_count": 1,
      "outputs": [
        {
          "output_type": "execute_result",
          "data": {
            "text/plain": [
              "' Задание 1\\nПечатные газеты использовали свой формат дат для каждого выпуска. Для каждой газеты из списка напишите формат указанной даты для перевода в объект datetime:\\nThe Moscow Times — Wednesday, October 2, 2002\\nThe Guardian — Friday, 11.10.13\\nDaily News — Thursday, 18 August 1977\\n\\nЗадание 2\\nДан поток дат в формате YYYY-MM-DD, в которых встречаются некорректные значения:\\nstream = [‘2018-04-02’, ‘2018-02-29’, ‘2018-19-02’]\\n\\nНапишите функцию, которая проверяет эти даты на корректность. То есть для каждой даты возвращает True — дата корректна или False — некорректная.\\n\\nЗадание 3\\nНапишите функцию date_range, которая возвращает список дат за период от start_date до end_date. Даты должны вводиться в формате YYYY-MM-DD. В случае неверного формата или при start_date > end_date должен возвращаться пустой список.\\n\\nЗадание 4 (необязательное)\\nВаш коллега прислал код функции:\\n\\nDEFAULT_USER_COUNT = 3\\n\\ndef delete_and_return_last_user(region, default_list=[‘A100’, ‘A101’, ‘A102’]):\\n\"\"“\\nУдаляет из списка default_list последнего пользователя\\nи возвращает ID нового последнего пользователя.\\n”\"\"\\nelement_to_delete = default_list[-1]\\ndefault_list.remove(element_to_delete)\\n\\n1\\nreturn default_list[DEFAULT_USER_COUNT-2]\\nПри однократном вызове этой функции всё работает корректно:\\ndelete_and_return_last_user(1)\\n‘A101’\\n\\nОднако при повторном вызове получается ошибка IndexError: list index out of range.\\n\\nЗадание:\\n\\nЧто значит ошибка list index out of range?\\nПочему при первом запуске функция работает корректно, а при втором — нет?\\n###\\n'"
            ],
            "application/vnd.google.colaboratory.intrinsic+json": {
              "type": "string"
            }
          },
          "metadata": {},
          "execution_count": 1
        }
      ]
    },
    {
      "cell_type": "code",
      "source": [
        "#Задание 1\n",
        "import datetime \n",
        "mdate_time_str = 'Wednesday, October 2, 2002' \n",
        "gdate_time_str = 'Friday, 11.10.13'\n",
        "ddate_time_str = 'Thursday, 18 August 1977'\n",
        "mdate_time_obj = datetime.datetime.strptime(mdate_time_str, '%A, %B %d, %Y') \n",
        "gdate_time_obj = datetime.datetime.strptime(gdate_time_str, '%A, %d.%m.%y')\n",
        "ddate_time_obj = datetime.datetime.strptime(ddate_time_str, '%A, %d %B %Y')\n",
        "print('The Moscow Times:', mdate_time_obj)\n",
        "print('The Guardian:', gdate_time_obj)\n",
        "print('Daily News:', ddate_time_obj)"
      ],
      "metadata": {
        "colab": {
          "base_uri": "https://localhost:8080/"
        },
        "id": "5vdEFw2b-P3P",
        "outputId": "73352eb3-bde8-4dd9-a236-41cbcbe4d6ef"
      },
      "execution_count": null,
      "outputs": [
        {
          "output_type": "stream",
          "name": "stdout",
          "text": [
            "The Moscow Times: 2002-10-02 00:00:00\n",
            "The Guardian: 2013-10-11 00:00:00\n",
            "Daily News: 1977-08-18 00:00:00\n"
          ]
        }
      ]
    },
    {
      "cell_type": "code",
      "source": [
        "#Задание 2\n",
        "import datetime\n",
        "stream = ['2018-04-02', '2018-02-29', '2018-19-02']\n",
        "def check_date(any_date):\n",
        "    try:\n",
        "        datetime.datetime.strptime(any_date, '%Y-%m-%d')\n",
        "        return print('дата \"{}\" корректна: {}'.format(any_date, True))\n",
        "    except ValueError:\n",
        "        return print('дата \"{}\" корректна: {}'.format(any_date, False))\n",
        "\n",
        "for dt in stream:\n",
        "    check_date(dt)"
      ],
      "metadata": {
        "colab": {
          "base_uri": "https://localhost:8080/"
        },
        "id": "ktCeA2Ys_BDW",
        "outputId": "6c2f1cb6-e980-489d-dfcb-7f0e7cae0fe3"
      },
      "execution_count": null,
      "outputs": [
        {
          "output_type": "stream",
          "name": "stdout",
          "text": [
            "дата \"2018-04-02\" корректна: True\n",
            "дата \"2018-02-29\" корректна: False\n",
            "дата \"2018-19-02\" корректна: False\n"
          ]
        }
      ]
    },
    {
      "cell_type": "code",
      "source": [
        "#Задание 3\n",
        "def datediff(start_date, end_date):\n",
        "    from datetime import datetime\n",
        "    try:\n",
        "        difference=datetime.strptime(end_date,'%Y-%m-%d')-datetime.strptime(start_date,'%Y-%m-%d')\n",
        "    except ValueError:\n",
        "        return []\n",
        "    return f'{difference.days} дней между \"{start_date}\" и \"{end_date}\": {list(range(1,difference.days+1))}'\n",
        "datediff(start_date='2021-02-30', end_date='2021-02-31')"
      ],
      "metadata": {
        "colab": {
          "base_uri": "https://localhost:8080/"
        },
        "id": "lIo2X_6ihUe9",
        "outputId": "4fa7e53f-cd3f-48c9-d657-41c261b4bffd"
      },
      "execution_count": null,
      "outputs": [
        {
          "output_type": "execute_result",
          "data": {
            "text/plain": [
              "[]"
            ]
          },
          "metadata": {},
          "execution_count": 3
        }
      ]
    },
    {
      "cell_type": "code",
      "source": [],
      "metadata": {
        "id": "fu9y_Uvj-3Da"
      },
      "execution_count": null,
      "outputs": []
    }
  ]
}