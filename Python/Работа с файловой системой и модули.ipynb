{
  "nbformat": 4,
  "nbformat_minor": 0,
  "metadata": {
    "colab": {
      "provenance": []
    },
    "kernelspec": {
      "name": "python3",
      "display_name": "Python 3"
    },
    "language_info": {
      "name": "python"
    }
  },
  "cells": [
    {
      "cell_type": "code",
      "source": [
        "# Задание: Переведите содержимое файла purchase_log.txt в словарь purchases вида:\n",
        "#{‘1840e0b9d4’: ‘Продукты’, …}\n",
        "\n",
        "#Для каждого user_id в файле visit_log.csv определите третий столбец с категорией покупки, если покупка была, сам файл visit_log.csv изменять не надо. Запишите в файл funnel.csv визиты из файла visit_log.csv, в которых были покупки с указанием категории.\n",
        "#Учтите условия на данные:\n",
        "#содержимое purchase_log.txt помещается в оперативную память компьютера;\n",
        "#содержимое visit_log.csv — нет; используйте только построчную обработку этого файла."
      ],
      "metadata": {
        "id": "rUqZAcA_un7H"
      },
      "execution_count": null,
      "outputs": []
    },
    {
      "cell_type": "code",
      "execution_count": null,
      "metadata": {
        "colab": {
          "base_uri": "https://localhost:8080/"
        },
        "id": "0dqpQIEmBYRD",
        "outputId": "ffbda37e-d23f-45fc-dc81-f25f636c71a5"
      },
      "outputs": [
        {
          "output_type": "stream",
          "name": "stdout",
          "text": [
            "{'user_id': 'category'}\n",
            "{'user_id': 'category', '1840e0b9d4': 'Продукты'}\n",
            "{'user_id': 'category', '1840e0b9d4': 'Продукты', '4e4f90fcfb': 'Электроника'}\n",
            "{'user_id': 'category', '1840e0b9d4': 'Продукты', '4e4f90fcfb': 'Электроника', 'afea8d72fc': 'Электроника'}\n",
            "{'user_id': 'category', '1840e0b9d4': 'Продукты', '4e4f90fcfb': 'Электроника', 'afea8d72fc': 'Электроника', '373a6055fe': 'Бытовая техника'}\n",
            "{'user_id': 'category', '1840e0b9d4': 'Продукты', '4e4f90fcfb': 'Электроника', 'afea8d72fc': 'Электроника', '373a6055fe': 'Бытовая техника', '9b2ab046f3': 'Электроника'}\n",
            "{'user_id': 'category', '1840e0b9d4': 'Продукты', '4e4f90fcfb': 'Электроника', 'afea8d72fc': 'Электроника', '373a6055fe': 'Бытовая техника', '9b2ab046f3': 'Электроника', '9f39d307c3': 'Электроника'}\n",
            "{'user_id': 'category', '1840e0b9d4': 'Продукты', '4e4f90fcfb': 'Электроника', 'afea8d72fc': 'Электроника', '373a6055fe': 'Бытовая техника', '9b2ab046f3': 'Электроника', '9f39d307c3': 'Электроника', '44edeffc91': 'Продукты'}\n",
            "{'user_id': 'category', '1840e0b9d4': 'Продукты', '4e4f90fcfb': 'Электроника', 'afea8d72fc': 'Электроника', '373a6055fe': 'Бытовая техника', '9b2ab046f3': 'Электроника', '9f39d307c3': 'Электроника', '44edeffc91': 'Продукты', '704474fa2d': 'Продукты'}\n",
            "{'user_id': 'category', '1840e0b9d4': 'Продукты', '4e4f90fcfb': 'Электроника', 'afea8d72fc': 'Электроника', '373a6055fe': 'Бытовая техника', '9b2ab046f3': 'Электроника', '9f39d307c3': 'Электроника', '44edeffc91': 'Продукты', '704474fa2d': 'Продукты', '1de31be403': 'Бытовая техника'}\n"
          ]
        }
      ],
      "source": [
        "i = 0\n",
        "dic = {}\n",
        "\n",
        "with open('purchase_log.txt','r', encoding = 'utf-8') as f:\n",
        "  for line in f:\n",
        "    line = line.strip() \n",
        "    import json \n",
        "    dict_ = json.loads(line) \n",
        "    key = dict_['user_id']\n",
        "    value = dict_['category']\n",
        "    dic[key] = value\n",
        "    i = i+1\n",
        "    if i > 10:\n",
        "      break\n",
        "    print(dic)\n",
        "    # Отступы исправил"
      ]
    },
    {
      "cell_type": "code",
      "source": [
        "new_dict = {}\n",
        "with open( 'purchase_log.txt', encoding ='utf-8' ) as f :\n",
        "    for line in f:\n",
        "      line = line.strip()\n",
        "      import json \n",
        "    dict_ = json.loads(line)\n",
        "    print(dict_)\n",
        "    key=dict_['user_id']\n",
        "    value=dict_['category']\n",
        "    if key!='user_id':\n",
        "      new_dict.setdefault(key,value)"
      ],
      "metadata": {
        "colab": {
          "base_uri": "https://localhost:8080/"
        },
        "id": "h-GTF_8oHyrT",
        "outputId": "479db0dc-9edb-42ca-e474-3cd6ab56bcf1"
      },
      "execution_count": null,
      "outputs": [
        {
          "output_type": "stream",
          "name": "stdout",
          "text": [
            "{'user_id': 'df85c3cd61', 'category': 'Бытовая техника'}\n"
          ]
        }
      ]
    },
    {
      "cell_type": "code",
      "source": [
        "with open('visit_log.csv', 'r') as f, open('funnel.csv', 'w') as w_f:\n",
        "  for row in f:\n",
        "    line_list=row.strip().split(',')\n",
        "    if line_list[0] in new_dict.keys():\n",
        "      line_list.append(new_dict[line_list[0]])\n",
        "      add_line=','.join(line_list)\n",
        "      w_f.write(add_line+'')\n",
        "    elif line_list[0]=='user_id':\n",
        "      add_line=','.join(line_list)\n",
        "      w_f.write(add_line+'')\n",
        "    else:\n",
        "      line_list.append('category')\n",
        "      add_line=','.join(line_list)"
      ],
      "metadata": {
        "id": "NlPi4we6NRCs"
      },
      "execution_count": null,
      "outputs": []
    }
  ]
}